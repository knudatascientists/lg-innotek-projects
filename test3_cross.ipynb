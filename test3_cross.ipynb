{
 "cells": [
  {
   "cell_type": "code",
   "execution_count": 2,
   "metadata": {},
   "outputs": [
    {
     "name": "stdout",
     "output_type": "stream",
     "text": [
      "Testing image folder path : ./image/module/\n",
      "current testing foler : ./image/module/overkill/\n"
     ]
    },
    {
     "name": "stderr",
     "output_type": "stream",
     "text": [
      "100%|██████████| 500/500 [04:14<00:00,  1.96it/s]\n"
     ]
    },
    {
     "name": "stdout",
     "output_type": "stream",
     "text": [
      "current testing foler : ./image/module/true_ng/\n"
     ]
    },
    {
     "name": "stderr",
     "output_type": "stream",
     "text": [
      " 58%|█████▊    | 365/624 [03:11<06:19,  1.46s/it]"
     ]
    }
   ],
   "source": [
    "\n",
    "from epoxy_check import EpoxyCheck\n",
    "test_model = EpoxyCheck.from_up_path()\n",
    "t3_thresholds = [0.02,0.015,0.01,0.007,0.005]\n",
    "for thresh in t3_thresholds:\n",
    "    test_model.t3_threshold = thresh\n",
    "    result = test_model.check_all_folder(test_only=3)\n",
    "    test_model.calcScore()"
   ]
  },
  {
   "cell_type": "code",
   "execution_count": null,
   "metadata": {},
   "outputs": [],
   "source": []
  }
 ],
 "metadata": {
  "kernelspec": {
   "display_name": "Python 3.10.8 ('.venv': venv)",
   "language": "python",
   "name": "python3"
  },
  "language_info": {
   "codemirror_mode": {
    "name": "ipython",
    "version": 3
   },
   "file_extension": ".py",
   "mimetype": "text/x-python",
   "name": "python",
   "nbconvert_exporter": "python",
   "pygments_lexer": "ipython3",
   "version": "3.10.8"
  },
  "orig_nbformat": 4,
  "vscode": {
   "interpreter": {
    "hash": "a032ce2d9dd93ab5ebaa1ea222cc98de591c68629ec768450d1c5e85a39f64eb"
   }
  }
 },
 "nbformat": 4,
 "nbformat_minor": 2
}
