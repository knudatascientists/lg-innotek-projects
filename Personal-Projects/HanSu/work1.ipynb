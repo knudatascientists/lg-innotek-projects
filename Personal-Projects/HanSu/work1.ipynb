{
 "cells": [
  {
   "cell_type": "code",
   "execution_count": 1,
   "metadata": {},
   "outputs": [],
   "source": [
    "import os\n",
    "import pandas as pd\n",
    "import numpy as np\n",
    "input_path = './log_merge_proj_data/Input/'\n",
    "input_datas = os.listdir(input_path)"
   ]
  },
  {
   "cell_type": "code",
   "execution_count": 2,
   "metadata": {},
   "outputs": [],
   "source": [
    "def get_data(data_name):\n",
    "    data = pd.read_csv(input_path + data_name, header =2)\n",
    "    data_limit = pd.read_csv(input_path + data_name, header =None, names= data.columns).iloc[:2,1:]\n",
    "    data.drop_duplicates(['barcode'], keep = 'last', inplace= True)\n",
    "    data.reset_index(inplace = True, drop = True)\n",
    "    return data, data_limit"
   ]
  },
  {
   "cell_type": "code",
   "execution_count": 3,
   "metadata": {},
   "outputs": [
    {
     "name": "stdout",
     "output_type": "stream",
     "text": [
      "3448\n",
      "m.csv (5791, 21)\n",
      "1802\n",
      "n.csv (5248, 41)\n",
      "853\n",
      "o.csv (4754, 61)\n",
      "532\n",
      "p.csv (6161, 51)\n",
      "328\n",
      "q.csv (5781, 71)\n",
      "328\n"
     ]
    },
    {
     "name": "stderr",
     "output_type": "stream",
     "text": [
      "C:\\Users\\jhs85\\AppData\\Local\\Temp\\ipykernel_11648\\1877895414.py:3: DtypeWarning: Columns (1,2,3,4,5,6,7,8,9,10,11,12,13,14,15,16,17,18,19,20,21,22,23,24,25,26,27,28,29,30,31,32,33,34,35,36,37,38,39,40,41,42,43,44,45,46,47,48,49,50,51,52,53,54,55,56,57,58,59,60,61,62,63,64,65,66,67,68,69,70) have mixed types. Specify dtype option on import or set low_memory=False.\n",
      "  data_limit = pd.read_csv(input_path + data_name, header =None, names= data.columns).iloc[:2,1:]\n"
     ]
    }
   ],
   "source": [
    "data, data_limit = get_data(input_datas[0])\n",
    "barcode = set(data['barcode'])\n",
    "for data_name in input_datas[1:]:\n",
    "    data, data_limit = get_data(data_name)\n",
    "    barcode = barcode & set(data['barcode'])\n",
    "    print(len(barcode))\n",
    "    print(data_name, data.shape)\n",
    "print(len(barcode))"
   ]
  },
  {
   "cell_type": "code",
   "execution_count": 4,
   "metadata": {},
   "outputs": [
    {
     "name": "stderr",
     "output_type": "stream",
     "text": [
      "C:\\Users\\jhs85\\AppData\\Local\\Temp\\ipykernel_11648\\3002657457.py:7: FutureWarning: Passing a set as an indexer is deprecated and will raise in a future version. Use a list instead.\n",
      "  data = data.loc[barcode,:]\n"
     ]
    },
    {
     "name": "stdout",
     "output_type": "stream",
     "text": [
      "(328, 50)\n"
     ]
    },
    {
     "name": "stderr",
     "output_type": "stream",
     "text": [
      "C:\\Users\\jhs85\\AppData\\Local\\Temp\\ipykernel_11648\\3002657457.py:7: FutureWarning: Passing a set as an indexer is deprecated and will raise in a future version. Use a list instead.\n",
      "  data = data.loc[barcode,:]\n"
     ]
    },
    {
     "name": "stdout",
     "output_type": "stream",
     "text": [
      "(328, 20)\n"
     ]
    },
    {
     "name": "stderr",
     "output_type": "stream",
     "text": [
      "C:\\Users\\jhs85\\AppData\\Local\\Temp\\ipykernel_11648\\3002657457.py:7: FutureWarning: Passing a set as an indexer is deprecated and will raise in a future version. Use a list instead.\n",
      "  data = data.loc[barcode,:]\n"
     ]
    },
    {
     "name": "stdout",
     "output_type": "stream",
     "text": [
      "(328, 40)\n"
     ]
    },
    {
     "name": "stderr",
     "output_type": "stream",
     "text": [
      "C:\\Users\\jhs85\\AppData\\Local\\Temp\\ipykernel_11648\\3002657457.py:7: FutureWarning: Passing a set as an indexer is deprecated and will raise in a future version. Use a list instead.\n",
      "  data = data.loc[barcode,:]\n"
     ]
    },
    {
     "name": "stdout",
     "output_type": "stream",
     "text": [
      "(328, 60)\n"
     ]
    },
    {
     "name": "stderr",
     "output_type": "stream",
     "text": [
      "C:\\Users\\jhs85\\AppData\\Local\\Temp\\ipykernel_11648\\3002657457.py:7: FutureWarning: Passing a set as an indexer is deprecated and will raise in a future version. Use a list instead.\n",
      "  data = data.loc[barcode,:]\n"
     ]
    },
    {
     "name": "stdout",
     "output_type": "stream",
     "text": [
      "(328, 50)\n",
      "(328, 70)\n"
     ]
    },
    {
     "name": "stderr",
     "output_type": "stream",
     "text": [
      "C:\\Users\\jhs85\\AppData\\Local\\Temp\\ipykernel_11648\\1877895414.py:3: DtypeWarning: Columns (1,2,3,4,5,6,7,8,9,10,11,12,13,14,15,16,17,18,19,20,21,22,23,24,25,26,27,28,29,30,31,32,33,34,35,36,37,38,39,40,41,42,43,44,45,46,47,48,49,50,51,52,53,54,55,56,57,58,59,60,61,62,63,64,65,66,67,68,69,70) have mixed types. Specify dtype option on import or set low_memory=False.\n",
      "  data_limit = pd.read_csv(input_path + data_name, header =None, names= data.columns).iloc[:2,1:]\n",
      "C:\\Users\\jhs85\\AppData\\Local\\Temp\\ipykernel_11648\\3002657457.py:7: FutureWarning: Passing a set as an indexer is deprecated and will raise in a future version. Use a list instead.\n",
      "  data = data.loc[barcode,:]\n"
     ]
    }
   ],
   "source": [
    "datas = []\n",
    "data_limits = []\n",
    "for data_name in input_datas:\n",
    "    data,data_limit = get_data(data_name)\n",
    "    data.set_index('barcode',inplace = True)\n",
    "    data_limits.append(data_limit)    \n",
    "    data = data.loc[barcode,:]\n",
    "    data.sort_index(inplace = True)\n",
    "    print(data.shape)\n",
    "    datas.append(data)\n"
   ]
  },
  {
   "cell_type": "code",
   "execution_count": 5,
   "metadata": {},
   "outputs": [],
   "source": [
    "total = pd.concat(datas, axis = 1)\n",
    "total_limit = pd.concat(data_limits, axis = 1)"
   ]
  },
  {
   "cell_type": "code",
   "execution_count": 6,
   "metadata": {},
   "outputs": [
    {
     "name": "stdout",
     "output_type": "stream",
     "text": [
      "(328, 290)\n",
      "(2, 290)\n"
     ]
    }
   ],
   "source": [
    "print(total.shape)\n",
    "print(total_limit.shape)\n"
   ]
  },
  {
   "cell_type": "code",
   "execution_count": 7,
   "metadata": {},
   "outputs": [],
   "source": [
    "result = ['pass' for i in range(len(barcode))]\n",
    "for col in  total_limit.columns:\n",
    "    low, high = list(map(float, total_limit[col]))\n",
    "    result = [' '.join([r,col]) if d <= low or d >= high else r for r, d in zip(result, total[col])]\n",
    "result = [r if r == 'pass' else r[5:] for r in result]"
   ]
  },
  {
   "cell_type": "code",
   "execution_count": 8,
   "metadata": {},
   "outputs": [],
   "source": [
    "total['result'] = result\n",
    "total.reset_index(inplace=True)"
   ]
  },
  {
   "cell_type": "code",
   "execution_count": 9,
   "metadata": {},
   "outputs": [],
   "source": [
    "total_limit=total_limit.rename(index = {0:'low limit', 1:'high limit'}).reset_index()\n"
   ]
  },
  {
   "cell_type": "code",
   "execution_count": 10,
   "metadata": {},
   "outputs": [],
   "source": [
    "total_limit['result']=['','']\n",
    "total_limit.rename(columns = {'index': 'barcode'}, inplace = True)\n"
   ]
  },
  {
   "cell_type": "code",
   "execution_count": 11,
   "metadata": {},
   "outputs": [
    {
     "data": {
      "text/html": [
       "<div>\n",
       "<style scoped>\n",
       "    .dataframe tbody tr th:only-of-type {\n",
       "        vertical-align: middle;\n",
       "    }\n",
       "\n",
       "    .dataframe tbody tr th {\n",
       "        vertical-align: top;\n",
       "    }\n",
       "\n",
       "    .dataframe thead th {\n",
       "        text-align: right;\n",
       "    }\n",
       "</style>\n",
       "<table border=\"1\" class=\"dataframe\">\n",
       "  <thead>\n",
       "    <tr style=\"text-align: right;\">\n",
       "      <th></th>\n",
       "      <th>barcode</th>\n",
       "      <th>LB</th>\n",
       "      <th>LC</th>\n",
       "      <th>LD</th>\n",
       "      <th>LE</th>\n",
       "      <th>LF</th>\n",
       "      <th>LG</th>\n",
       "      <th>LH</th>\n",
       "      <th>LI</th>\n",
       "      <th>LJ</th>\n",
       "      <th>...</th>\n",
       "      <th>QBK</th>\n",
       "      <th>QBL</th>\n",
       "      <th>QBM</th>\n",
       "      <th>QBN</th>\n",
       "      <th>QBO</th>\n",
       "      <th>QBP</th>\n",
       "      <th>QBQ</th>\n",
       "      <th>QBR</th>\n",
       "      <th>QBS</th>\n",
       "      <th>result</th>\n",
       "    </tr>\n",
       "  </thead>\n",
       "  <tbody>\n",
       "    <tr>\n",
       "      <th>0</th>\n",
       "      <td>low limit</td>\n",
       "      <td>2</td>\n",
       "      <td>2</td>\n",
       "      <td>20</td>\n",
       "      <td>0.5</td>\n",
       "      <td>0.5</td>\n",
       "      <td>0.5</td>\n",
       "      <td>0</td>\n",
       "      <td>-0.8</td>\n",
       "      <td>-0.8</td>\n",
       "      <td>...</td>\n",
       "      <td>1.05</td>\n",
       "      <td>1.05</td>\n",
       "      <td>1.05</td>\n",
       "      <td>1.05</td>\n",
       "      <td>1.05</td>\n",
       "      <td>1.05</td>\n",
       "      <td>1.05</td>\n",
       "      <td>1.05</td>\n",
       "      <td>1.05</td>\n",
       "      <td></td>\n",
       "    </tr>\n",
       "    <tr>\n",
       "      <th>1</th>\n",
       "      <td>high limit</td>\n",
       "      <td>15</td>\n",
       "      <td>15</td>\n",
       "      <td>120</td>\n",
       "      <td>12</td>\n",
       "      <td>52</td>\n",
       "      <td>4550</td>\n",
       "      <td>2</td>\n",
       "      <td>-0.35</td>\n",
       "      <td>-0.35</td>\n",
       "      <td>...</td>\n",
       "      <td>2.2</td>\n",
       "      <td>2.2</td>\n",
       "      <td>2.2</td>\n",
       "      <td>2.2</td>\n",
       "      <td>2.2</td>\n",
       "      <td>2.2</td>\n",
       "      <td>2.2</td>\n",
       "      <td>2.2</td>\n",
       "      <td>2.2</td>\n",
       "      <td></td>\n",
       "    </tr>\n",
       "  </tbody>\n",
       "</table>\n",
       "<p>2 rows × 292 columns</p>\n",
       "</div>"
      ],
      "text/plain": [
       "      barcode  LB  LC   LD   LE   LF    LG LH     LI     LJ  ...   QBK   QBL  \\\n",
       "0   low limit   2   2   20  0.5  0.5   0.5  0   -0.8   -0.8  ...  1.05  1.05   \n",
       "1  high limit  15  15  120   12   52  4550  2  -0.35  -0.35  ...   2.2   2.2   \n",
       "\n",
       "    QBM   QBN   QBO   QBP   QBQ   QBR   QBS result  \n",
       "0  1.05  1.05  1.05  1.05  1.05  1.05  1.05         \n",
       "1   2.2   2.2   2.2   2.2   2.2   2.2   2.2         \n",
       "\n",
       "[2 rows x 292 columns]"
      ]
     },
     "execution_count": 11,
     "metadata": {},
     "output_type": "execute_result"
    }
   ],
   "source": [
    "total_limit"
   ]
  },
  {
   "cell_type": "code",
   "execution_count": 14,
   "metadata": {},
   "outputs": [
    {
     "data": {
      "text/html": [
       "<div>\n",
       "<style scoped>\n",
       "    .dataframe tbody tr th:only-of-type {\n",
       "        vertical-align: middle;\n",
       "    }\n",
       "\n",
       "    .dataframe tbody tr th {\n",
       "        vertical-align: top;\n",
       "    }\n",
       "\n",
       "    .dataframe thead th {\n",
       "        text-align: right;\n",
       "    }\n",
       "</style>\n",
       "<table border=\"1\" class=\"dataframe\">\n",
       "  <thead>\n",
       "    <tr style=\"text-align: right;\">\n",
       "      <th></th>\n",
       "      <th>barcode</th>\n",
       "      <th>LB</th>\n",
       "      <th>LC</th>\n",
       "      <th>LD</th>\n",
       "      <th>LE</th>\n",
       "      <th>LF</th>\n",
       "      <th>LG</th>\n",
       "      <th>LH</th>\n",
       "      <th>LI</th>\n",
       "      <th>LJ</th>\n",
       "      <th>...</th>\n",
       "      <th>QBK</th>\n",
       "      <th>QBL</th>\n",
       "      <th>QBM</th>\n",
       "      <th>QBN</th>\n",
       "      <th>QBO</th>\n",
       "      <th>QBP</th>\n",
       "      <th>QBQ</th>\n",
       "      <th>QBR</th>\n",
       "      <th>QBS</th>\n",
       "      <th>result</th>\n",
       "    </tr>\n",
       "  </thead>\n",
       "  <tbody>\n",
       "    <tr>\n",
       "      <th>0</th>\n",
       "      <td>low limit</td>\n",
       "      <td>2</td>\n",
       "      <td>2</td>\n",
       "      <td>20</td>\n",
       "      <td>0.5</td>\n",
       "      <td>0.5</td>\n",
       "      <td>0.5</td>\n",
       "      <td>0</td>\n",
       "      <td>-0.8</td>\n",
       "      <td>-0.8</td>\n",
       "      <td>...</td>\n",
       "      <td>1.05</td>\n",
       "      <td>1.05</td>\n",
       "      <td>1.05</td>\n",
       "      <td>1.05</td>\n",
       "      <td>1.05</td>\n",
       "      <td>1.05</td>\n",
       "      <td>1.05</td>\n",
       "      <td>1.05</td>\n",
       "      <td>1.05</td>\n",
       "      <td></td>\n",
       "    </tr>\n",
       "    <tr>\n",
       "      <th>1</th>\n",
       "      <td>high limit</td>\n",
       "      <td>15</td>\n",
       "      <td>15</td>\n",
       "      <td>120</td>\n",
       "      <td>12</td>\n",
       "      <td>52</td>\n",
       "      <td>4550</td>\n",
       "      <td>2</td>\n",
       "      <td>-0.35</td>\n",
       "      <td>-0.35</td>\n",
       "      <td>...</td>\n",
       "      <td>2.2</td>\n",
       "      <td>2.2</td>\n",
       "      <td>2.2</td>\n",
       "      <td>2.2</td>\n",
       "      <td>2.2</td>\n",
       "      <td>2.2</td>\n",
       "      <td>2.2</td>\n",
       "      <td>2.2</td>\n",
       "      <td>2.2</td>\n",
       "      <td></td>\n",
       "    </tr>\n",
       "    <tr>\n",
       "      <th>2</th>\n",
       "      <td>barcode</td>\n",
       "      <td>LB</td>\n",
       "      <td>LC</td>\n",
       "      <td>LD</td>\n",
       "      <td>LE</td>\n",
       "      <td>LF</td>\n",
       "      <td>LG</td>\n",
       "      <td>LH</td>\n",
       "      <td>LI</td>\n",
       "      <td>LJ</td>\n",
       "      <td>...</td>\n",
       "      <td>QBK</td>\n",
       "      <td>QBL</td>\n",
       "      <td>QBM</td>\n",
       "      <td>QBN</td>\n",
       "      <td>QBO</td>\n",
       "      <td>QBP</td>\n",
       "      <td>QBQ</td>\n",
       "      <td>QBR</td>\n",
       "      <td>QBS</td>\n",
       "      <td>result</td>\n",
       "    </tr>\n",
       "  </tbody>\n",
       "</table>\n",
       "<p>3 rows × 292 columns</p>\n",
       "</div>"
      ],
      "text/plain": [
       "      barcode  LB  LC   LD   LE   LF    LG  LH     LI     LJ  ...   QBK   QBL  \\\n",
       "0   low limit   2   2   20  0.5  0.5   0.5   0   -0.8   -0.8  ...  1.05  1.05   \n",
       "1  high limit  15  15  120   12   52  4550   2  -0.35  -0.35  ...   2.2   2.2   \n",
       "2     barcode  LB  LC   LD   LE   LF    LG  LH     LI     LJ  ...   QBK   QBL   \n",
       "\n",
       "    QBM   QBN   QBO   QBP   QBQ   QBR   QBS  result  \n",
       "0  1.05  1.05  1.05  1.05  1.05  1.05  1.05          \n",
       "1   2.2   2.2   2.2   2.2   2.2   2.2   2.2          \n",
       "2   QBM   QBN   QBO   QBP   QBQ   QBR   QBS  result  \n",
       "\n",
       "[3 rows x 292 columns]"
      ]
     },
     "execution_count": 14,
     "metadata": {},
     "output_type": "execute_result"
    }
   ],
   "source": [
    "total_limit = total_limit.astype('str')\n",
    "total = total.astype('str')\n",
    "total_limit.loc[2,:] = total_limit.columns\n",
    "total_limit"
   ]
  },
  {
   "cell_type": "code",
   "execution_count": 15,
   "metadata": {},
   "outputs": [],
   "source": [
    "output = pd.concat([total_limit,total])\n",
    "output.to_csv('output.csv', index = False, header=False)"
   ]
  },
  {
   "cell_type": "code",
   "execution_count": null,
   "metadata": {},
   "outputs": [],
   "source": []
  }
 ],
 "metadata": {
  "kernelspec": {
   "display_name": "Python 3.8.2 ('teamP': venv)",
   "language": "python",
   "name": "python3"
  },
  "language_info": {
   "codemirror_mode": {
    "name": "ipython",
    "version": 3
   },
   "file_extension": ".py",
   "mimetype": "text/x-python",
   "name": "python",
   "nbconvert_exporter": "python",
   "pygments_lexer": "ipython3",
   "version": "3.8.2"
  },
  "orig_nbformat": 4,
  "vscode": {
   "interpreter": {
    "hash": "2609a2b9096678a109be2a8ba02f88f98b4c4bcbf60615abe3360d8f8e35f61b"
   }
  }
 },
 "nbformat": 4,
 "nbformat_minor": 2
}
