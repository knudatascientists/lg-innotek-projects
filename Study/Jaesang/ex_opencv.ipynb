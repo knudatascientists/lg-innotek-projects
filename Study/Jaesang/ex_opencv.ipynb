{
 "cells": [
  {
   "cell_type": "markdown",
   "metadata": {},
   "source": [
    "### Open CV\n",
    "##### Image processing이란\n",
    "- 디지털 이미지를 수학적으로 처리하는 기법\n",
    "- 이미지 파일이 이루어진 숫자 정보에 컴퓨터 알고리즘으로 이미지 처리를 수행하는 것\n",
    "- 모바일 앱이나 포토샵에서 볼 수 있는 필터 적용, 잘라내기 및 의료영상, 영상 전화, 광학 문자 인식에서 사용됨\n",
    "\n",
    "###### 사용 기법\n",
    "- 색 관련 : 색상 공간 변경, 이미지 깊이 변경, 이미지 대비,밝기,색상 밸런스 조정\n",
    "- 기하학적 변환 : 확대, 축소, 회전, 뒤집기\n",
    "- 영상 인식 : Edge detection, Contour detection, Face detection, OCR\n",
    "- 필터링 : Blurring, Sharpening\n",
    "- 팽창 및 침식 연산을 사용한 모폴로지 연산\n",
    "- 이미지 임계처리 (thresholding)\n",
    "- 이미지 crop, 이미지 분할, 이미지 합성"
   ]
  },
  {
   "cell_type": "markdown",
   "metadata": {},
   "source": [
    "#### Image 읽기"
   ]
  },
  {
   "cell_type": "code",
   "execution_count": 1,
   "metadata": {},
   "outputs": [],
   "source": [
    "# 모듈 로딩\n",
    "import cv2\n",
    "import numpy as np\n",
    "import pandas as pd"
   ]
  },
  {
   "cell_type": "code",
   "execution_count": 2,
   "metadata": {},
   "outputs": [],
   "source": [
    "lena_img = cv2.imread('./lena.png')\n",
    "cv2.imshow('lena', lena_img)    # 이미지 파일 읽기\n",
    "\n",
    "cv2.waitKey(0)\n",
    "cv2.destroyAllWindows()"
   ]
  },
  {
   "cell_type": "code",
   "execution_count": 3,
   "metadata": {},
   "outputs": [
    {
     "data": {
      "text/plain": [
       "True"
      ]
     },
     "execution_count": 3,
     "metadata": {},
     "output_type": "execute_result"
    }
   ],
   "source": [
    "# 이미지 파일을 jpeg 형식으로 쓰기\n",
    "cv2.imwrite('./lena_jpg.jpg', lena_img, [cv2.IMWRITE_JPEG_QUALITY, 95])\n",
    "cv2.imwrite('./lena_png.png', lena_img, [cv2.IMWRITE_PNG_COMPRESSION, 3])"
   ]
  },
  {
   "cell_type": "markdown",
   "metadata": {},
   "source": [
    "#### Image 생성"
   ]
  },
  {
   "cell_type": "code",
   "execution_count": 4,
   "metadata": {},
   "outputs": [],
   "source": [
    "empty_mat = np.empty((500, 500), np.float32)\n",
    "zeros_mat = np.zeros((500, 500))\n",
    "ones_mat = np.ones((500, 500))\n",
    "ones_mat_int = np.ones((500, 500), np.uint8)\n",
    "\n",
    "cv2.imshow('empty_mat', empty_mat)\n",
    "cv2.imshow('zeors_mat', zeros_mat)\n",
    "cv2.imshow('ones_mat', ones_mat)\n",
    "cv2.imshow('ones_mat_int', ones_mat_int)\n",
    "cv2.waitKey(0)\n",
    "cv2.destroyAllWindows()\n",
    "\n",
    "zeros_mat.fill(10.)\n",
    "ones_mat_int.fill(128)\n",
    "cv2.imshow('zeros_mat_10', zeros_mat)\n",
    "cv2.imshow('ones_mat_int_128', ones_mat_int)\n",
    "cv2.waitKey(0)\n",
    "cv2.destroyAllWindows()\n",
    "\n",
    "my_mat = np.array([[255, 255, 0, 0, 255, 255], [255, 255, 0, 0, 255, 255]])\n",
    "my_mat2 = np.array([[1., 1., 0., 0., 1., 1.], [1., 1., 0., 0., 1., 1.]])"
   ]
  },
  {
   "cell_type": "code",
   "execution_count": 6,
   "metadata": {},
   "outputs": [
    {
     "name": "stdout",
     "output_type": "stream",
     "text": [
      "img.dtype = int32\n",
      "img.ndim = 2\n",
      "img.shape = (2, 6)\n"
     ]
    }
   ],
   "source": [
    "# 이미지 생성 후 속성 확인\n",
    "print('img.dtype =', my_mat.dtype)\n",
    "print('img.ndim =', my_mat.ndim)\n",
    "print('img.shape =', my_mat.shape)"
   ]
  },
  {
   "cell_type": "markdown",
   "metadata": {},
   "source": [
    "#### Image 연산 (roi - region of interest)"
   ]
  },
  {
   "cell_type": "code",
   "execution_count": 8,
   "metadata": {},
   "outputs": [],
   "source": [
    "lena_img = cv2.imread('./lena.png')\n",
    "lena_img2 = cv2.copyTo(lena_img, None)\n",
    "lena_img2[10:100, :, :] = 0  # 특정 영역 지정\n",
    "\n",
    "cv2.imshow('lena', lena_img)\n",
    "cv2.imshow('lena2', lena_img2)\n",
    "cv2.waitKey(0)\n",
    "cv2.destroyAllWindows()"
   ]
  },
  {
   "cell_type": "markdown",
   "metadata": {},
   "source": [
    "- 이미지 특정 영역 numpy array는 [y_start:y_end, x_start:x_end, channel_start:channel_end]\n",
    "- start가 비어 있으면 0부터, end가 비어있으면 끝까지, 둘 다 비어있으면 전부를 의미함"
   ]
  },
  {
   "cell_type": "code",
   "execution_count": 9,
   "metadata": {},
   "outputs": [],
   "source": [
    "b_img = np.zeros([300, 300, 3], np.uint8)\n",
    "b_img[:, :, 0].fill(255)\n",
    "\n",
    "g_img = np.zeros([300, 300, 3], np.uint8)\n",
    "g_img[:, :, 1].fill(255)\n",
    "\n",
    "bg_img = b_img + g_img\n",
    "\n",
    "cv2.imshow('blue', b_img)\n",
    "cv2.imshow('green', g_img)\n",
    "cv2.imshow('blue+green', bg_img)\n",
    "cv2.waitKey(0)\n",
    "cv2.destroyAllWindows()"
   ]
  },
  {
   "cell_type": "markdown",
   "metadata": {},
   "source": [
    "- 3차원 numpy array는 [y, x, channel] 구조를 가짐\n",
    "- channel의 경우 BGR 순서로 인식하므로 index 0 = B, index 1 = G, index 2 = R"
   ]
  },
  {
   "cell_type": "markdown",
   "metadata": {},
   "source": [
    "#### 도형 그리기"
   ]
  },
  {
   "cell_type": "code",
   "execution_count": 10,
   "metadata": {},
   "outputs": [],
   "source": [
    "rgb_img = np.zeros([500, 500, 3], np.uint8)\n",
    "\n",
    "# cv2.rectangle(img, pt1, pt2, color[, thickness[, lineType[, shift]]])\n",
    "cv2.rectangle(rgb_img, (10, 10), (100, 100), (0, 0, 255), thickness=1)\n",
    "\n",
    "# cv2.line(img, pt1, pt2, color[, thickness[, lineType[, shift]]])\n",
    "cv2.line(rgb_img, (10, 300), (100, 300), (0, 255, 0), thickness=3)\n",
    "\n",
    "# cv2.putText(img, text, org, fontFace, color[, thicknessp[, lineType[, bottomLeftOrigin]]])\n",
    "cv2.putText(rgb_img, \"hello, I'm Jaesang\", (200, 100), cv2.FONT_HERSHEY_SIMPLEX, 2, (255, 255, 255))\n",
    "\n",
    "# cv2.circle(img, center, radius, color[, thickness[, lineType[, shift]]])\n",
    "cv2.circle(rgb_img, (300, 300), 20, (0, 255, 255))\n",
    "\n",
    "# cv2.polylines(img, pts, isClosed, color[, thickness[, lineType[, shift]]])\n",
    "points1 = np.array([[350, 350], [360, 410], [370, 420], [450, 500]], np.int32)\n",
    "cv2.polylines(rgb_img, [points1], True, (255, 0, 0))\n",
    "\n",
    "cv2.imshow('img', rgb_img)\n",
    "cv2.waitKey(0)\n",
    "cv2.destroyAllWindows()"
   ]
  }
 ],
 "metadata": {
  "kernelspec": {
   "display_name": "Python 3.11.0 ('pyvenv3.11': venv)",
   "language": "python",
   "name": "python3"
  },
  "language_info": {
   "codemirror_mode": {
    "name": "ipython",
    "version": 3
   },
   "file_extension": ".py",
   "mimetype": "text/x-python",
   "name": "python",
   "nbconvert_exporter": "python",
   "pygments_lexer": "ipython3",
   "version": "3.11.0"
  },
  "orig_nbformat": 4,
  "vscode": {
   "interpreter": {
    "hash": "c3d882a74ad42012e153b6e048ce571c592e3f952ef72c24c79f65b33763c5e9"
   }
  }
 },
 "nbformat": 4,
 "nbformat_minor": 2
}
