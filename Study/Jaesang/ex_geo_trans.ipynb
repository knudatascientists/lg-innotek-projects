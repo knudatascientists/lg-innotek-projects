{
 "cells": [
  {
   "cell_type": "markdown",
   "metadata": {},
   "source": [
    "### Geometric Transformation (기하학적 변환)\n",
    "- 영상의 크기, 위치를 변화시키거나 회전시키는 등의 변환을 의미함\n",
    "- OpenCV에서 다양한 기하학적 변환 함수를 지원함 (회전, 스케일링, 뒤집기 등)"
   ]
  },
  {
   "cell_type": "code",
   "execution_count": 4,
   "metadata": {},
   "outputs": [],
   "source": [
    "# 모듈 로딩\n",
    "import cv2\n",
    "import numpy as np"
   ]
  },
  {
   "cell_type": "markdown",
   "metadata": {},
   "source": [
    "#### Resize"
   ]
  },
  {
   "cell_type": "code",
   "execution_count": 1,
   "metadata": {},
   "outputs": [],
   "source": [
    "lena_img = cv2.imread('./lena.png')\n",
    "lena_nearest = cv2.resize(lena_img, dsize=(1000,1000), interpolation=cv2.INTER_NEAREST)\n",
    "lena_cubic = cv2.resize(lena_img, dsize=(1000,1000), interpolation=cv2.INTER_CUBIC)\n",
    "# lena_resize = cv2.resize(lena_img, dsize=(0,0), fx=2, fy=2)\n",
    "# width, height를 두 배\n",
    "# interpolation : 보간법\n",
    "\n",
    "cv2.imshow('nearest', lena_nearest)\n",
    "cv2.imshow('cubic', lena_cubic)\n",
    "cv2.waitKey(0)\n",
    "cv2.destroyAllWindows()"
   ]
  },
  {
   "cell_type": "markdown",
   "metadata": {},
   "source": [
    "### Affine transform\n",
    "- 평행을 유지하면서 이동, 회전, 크기 변환 가능"
   ]
  },
  {
   "cell_type": "code",
   "execution_count": 2,
   "metadata": {},
   "outputs": [],
   "source": [
    "lena_img = cv2.imread('./lena.png')\n",
    "\n",
    "# 이미지 크기 및 회전 중심 설정\n",
    "(h, w) = lena_img.shape[:2]\n",
    "(cX, cY) = (w/2, h/2)\n",
    "\n",
    "# 회전 행렬을 얻어오고, 회전 행렬을 이미지에 적용\n",
    "rot_mat = cv2.getRotationMatrix2D((cX, cY), 45, 1.0)\n",
    "rot_mat_0 = cv2.getRotationMatrix2D((0, 0), 45, 1.0)\n",
    "lena_45 = cv2.warpAffine(lena_img, rot_mat, (w, h))\n",
    "lena_45_0 = cv2.warpAffine(lena_img, rot_mat_0, (w, h))\n",
    "\n",
    "cv2.imshow('lena_45', lena_45)\n",
    "cv2.imshow('lena_45_0', lena_45_0)\n",
    "cv2.waitKey(0)\n",
    "cv2.destroyAllWindows()"
   ]
  },
  {
   "cell_type": "markdown",
   "metadata": {},
   "source": [
    "- getRotationMatrix2D 함수로 지정한 중심점을 기준으로 회전시키는 행렬을 변수에 저장\n",
    "- wrapsAffine 함수로 변환 행렬을 적용하여 affine 변환 진행"
   ]
  },
  {
   "cell_type": "markdown",
   "metadata": {},
   "source": [
    "#### Perspective transform\n",
    "- 보는 시각에 따라 먼 것은 작게, 가까운 것은 크게 보이는 현상으로 원근감을 주는 변환\n",
    "- affine transform보다 자유도가 높고 임의의 사각형으로 변환 가능"
   ]
  },
  {
   "cell_type": "code",
   "execution_count": 7,
   "metadata": {},
   "outputs": [],
   "source": [
    "lena_img = cv2.imread('./lena.png')\n",
    "(h, w) = lena_img.shape[:2]\n",
    "\n",
    "src_array = np.array([[0, 0], [0, 411], [411, 0], [411, 411]], np.float32)\n",
    "dst_array = np.array([[10, 10], [10, 111], [111, 20], [111, 55]], np.float32)\n",
    "\n",
    "# 원근 행렬을 얻어오고 행렬을 이미지에 적용\n",
    "per_mat = cv2.getPerspectiveTransform(src_array, dst_array)\n",
    "lena_per = cv2.warpPerspective(lena_img, per_mat, (w, h))\n",
    "\n",
    "cv2.imshow('lena_per', lena_per)\n",
    "cv2.waitKey(0)\n",
    "cv2.destroyAllWindows()"
   ]
  },
  {
   "cell_type": "markdown",
   "metadata": {},
   "source": [
    "- getPerspectiveTransform 함수로 원근 변환에 필요한 3*3 변환 행렬 변수에 저장\n",
    "- wrapPerspective 함수로 원근 변환 행렬을 적용하여 원근 변환 진행"
   ]
  },
  {
   "cell_type": "markdown",
   "metadata": {},
   "source": []
  }
 ],
 "metadata": {
  "kernelspec": {
   "display_name": "Python 3.11.0 ('pyvenv3.11': venv)",
   "language": "python",
   "name": "python3"
  },
  "language_info": {
   "codemirror_mode": {
    "name": "ipython",
    "version": 3
   },
   "file_extension": ".py",
   "mimetype": "text/x-python",
   "name": "python",
   "nbconvert_exporter": "python",
   "pygments_lexer": "ipython3",
   "version": "3.11.0"
  },
  "orig_nbformat": 4,
  "vscode": {
   "interpreter": {
    "hash": "c3d882a74ad42012e153b6e048ce571c592e3f952ef72c24c79f65b33763c5e9"
   }
  }
 },
 "nbformat": 4,
 "nbformat_minor": 2
}
