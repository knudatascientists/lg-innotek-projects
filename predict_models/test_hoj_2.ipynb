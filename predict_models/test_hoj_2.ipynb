{
 "cells": [
  {
   "cell_type": "code",
   "execution_count": null,
   "metadata": {},
   "outputs": [],
   "source": [
    "import os\n",
    "import cv2\n",
    "import numpy as np\n",
    "import img_preprocess\n",
    "import matplotlib.pyplot as plt\n",
    "from skimage.metrics import structural_similarity as compare_ssim\n",
    "\n",
    "\n",
    "def preprocessing(image):\n",
    "    # 베스트 이미지\n",
    "    best_img = cv2.imread(\n",
    "        \"./product_images/true_ok/GSY827AN7A1356_AAO11960K_PKT10_CM1EQSUA0012_20220711210457_DirectLight_OK.jpg\"\n",
    "    )\n",
    "    # 비교 이미지\n",
    "    input_img = cv2.imread(image)\n",
    "    \n",
    "\n",
    "    best_carrier, best_sensor = img_preprocess.find_contours(best_img, show=False, sensor=True)\n",
    "    input_carrier, input_sensor = img_preprocess.find_contours(input_img, show=False, sensor=True)\n",
    "    \n",
    "    if np.any(input_sensor) == None:\n",
    "        return []\n",
    "    else:\n",
    "        input_sensor\n",
    "    \n",
    "    input_sensor = cv2.resize(input_sensor, dsize=(1676, 1258))\n",
    "\n",
    "    tempDiff = cv2.subtract(best_sensor, input_sensor)\n",
    "\n",
    "    best_gray = cv2.cvtColor(best_sensor, cv2.COLOR_BGR2GRAY)\n",
    "    input_gray = cv2.cvtColor(input_sensor, cv2.COLOR_BGR2GRAY)\n",
    "\n",
    "    (score, diff) = compare_ssim(best_gray, input_gray, full=True)\n",
    "    diff = (diff * 255).astype(\"uint8\")\n",
    "\n",
    "    thresh = cv2.threshold(diff, 0, 255, cv2.THRESH_BINARY_INV | cv2.THRESH_OTSU)[0]\n",
    "\n",
    "    # 차이점 빨간색으로 칠하기\n",
    "    tempDiff[thresh == 255] = [0, 0, 255]\n",
    "\n",
    "    return tempDiff, thresh\n",
    "\n",
    "\n",
    "def get_hists(img, mask=None, ranges=[0, 255]):\n",
    "    \"\"\"show image's distribution\n",
    "\n",
    "    Args:\n",
    "        img (3D/2D Array): image\n",
    "        mask (cv2.inrange, optional): image where you wanna get hist. Defaults to None.\n",
    "        ranges (list, optional): _description_. Defaults to [0, 255].\n",
    "\n",
    "    Returns:\n",
    "        hists (list): list of each component's hist\n",
    "    \"\"\"\n",
    "    colors = [\"b\", \"g\", \"r\"]\n",
    "    img_planes = cv2.split(img)\n",
    "    hists = []\n",
    "    for (p, c) in zip(img_planes, colors):\n",
    "        try:\n",
    "            hist = cv2.calcHist(\n",
    "                [p],\n",
    "                [0],\n",
    "                mask,\n",
    "                [256],\n",
    "                ranges,\n",
    "            )\n",
    "            hists.append([hist, c])\n",
    "\n",
    "        except:\n",
    "            pass\n",
    "\n",
    "    return hists\n",
    "\n",
    "\n",
    "def make_mask(per, n):\n",
    "    \"\"\"이미지에 마진margin을 n만큼 설정해서 출력\n",
    "\n",
    "    Args:\n",
    "        per (ndarray): 이미지\n",
    "        n (int): 마진margin\n",
    "\n",
    "    Returns:\n",
    "        ndarray: 마진을 설정한 이미지\n",
    "    \"\"\"\n",
    "    mask = np.zeros(per.shape[:2], np.uint8)\n",
    "    mask[n : per.shape[0] - n, n : per.shape[1] - n] = 255\n",
    "    return mask\n",
    "\n",
    "\n",
    "def detect_result(hist, num_OK, num_NG):\n",
    "    if hist >= 100:\n",
    "        num_NG += 1\n",
    "\n",
    "    else:\n",
    "        num_OK += 1\n",
    "    \n",
    "    return num_OK, num_NG\n",
    "\n",
    "\n",
    "def model_hj(folder):\n",
    "    num_OK = 0\n",
    "    num_NG = 0\n",
    "    result = 0\n",
    "    \n",
    "    file_path = \"./product_images/\" + folder + \"/\"\n",
    "    img_paths = os.listdir(file_path)\n",
    "    for i in range(len(img_paths)):\n",
    "        tempdiff = preprocessing(file_path + img_paths[i])\n",
    "        if tempdiff == []:\n",
    "            num_NG += 1\n",
    "        else:\n",
    "            mask = make_mask(tempdiff, 10)\n",
    "            hists = get_hists(tempdiff, mask=mask)\n",
    "\n",
    "            hist = np.sum(hists[2][0][6:])\n",
    "            num_OK, num_NG = detect_result(hist, num_OK, num_NG)\n",
    "            result+=hist\n",
    "    return print(f\"==== Result of Detection ====\\n     총 수량 : {format(num_OK+num_NG, ',')} EA\\n     양품 수량 : {format(num_OK, ',')} EA\\n     불량품 수량 : {format(num_NG, ',')} EA\\n     양품률 : {round(num_OK/(num_OK+num_NG)*100)} %\\n     불량률 : {round(num_NG/(num_OK+num_NG)*100)} %\\n     평균 Hist : {round(result/(num_OK+num_NG)*100)}\")"
   ]
  },
  {
   "cell_type": "code",
   "execution_count": null,
   "id": "11ac01d5",
   "metadata": {},
   "outputs": [
    {
     "name": "stderr",
     "output_type": "stream",
     "text": [
      "C:\\Users\\USER\\AppData\\Local\\Temp\\ipykernel_14472\\1468423174.py:110: DeprecationWarning: elementwise comparison failed; this will raise an error in the future.\n",
      "  if tempdiff == []:\n"
     ]
    },
    {
     "name": "stdout",
     "output_type": "stream",
     "text": [
      "==== Result of Detection ====\n",
      "     총 수량 : 624 EA\n",
      "     양품 수량 : 4 EA\n",
      "     불량품 수량 : 620 EA\n",
      "     양품률 : 1 %\n",
      "     불량률 : 99 %\n",
      "     평균 Hist : 15957188\n"
     ]
    }
   ],
   "source": [
    "model_hj('true_ng2')"
   ]
  },
  {
   "cell_type": "code",
   "execution_count": null,
   "id": "3a7d3d05",
   "metadata": {},
   "outputs": [
    {
     "name": "stderr",
     "output_type": "stream",
     "text": [
      "C:\\Users\\USER\\AppData\\Local\\Temp\\ipykernel_14472\\1468423174.py:110: DeprecationWarning: elementwise comparison failed; this will raise an error in the future.\n",
      "  if tempdiff == []:\n"
     ]
    },
    {
     "name": "stdout",
     "output_type": "stream",
     "text": [
      "==== Result of Detection ====\n",
      "     총 수량 : 500 EA\n",
      "     양품 수량 : 373 EA\n",
      "     불량품 수량 : 127 EA\n",
      "     양품률 : 75 %\n",
      "     불량률 : 25 %\n",
      "     평균 Hist : 285522\n"
     ]
    }
   ],
   "source": [
    "model_hj('overkill2')"
   ]
  },
  {
   "cell_type": "code",
   "execution_count": null,
   "id": "457efb84",
   "metadata": {},
   "outputs": [
    {
     "name": "stderr",
     "output_type": "stream",
     "text": [
      "C:\\Users\\USER\\AppData\\Local\\Temp\\ipykernel_14472\\1468423174.py:110: DeprecationWarning: elementwise comparison failed; this will raise an error in the future.\n",
      "  if tempdiff == []:\n"
     ]
    },
    {
     "name": "stdout",
     "output_type": "stream",
     "text": [
      "==== Result of Detection ====\n",
      "     총 수량 : 1,096 EA\n",
      "     양품 수량 : 850 EA\n",
      "     불량품 수량 : 246 EA\n",
      "     양품률 : 78 %\n",
      "     불량률 : 22 %\n",
      "     평균 Hist : 596094\n"
     ]
    }
   ],
   "source": [
    "model_hj('true_ok2')"
   ]
  }
 ],
 "metadata": {
  "kernelspec": {
   "display_name": "Python 3.9.13 ('base')",
   "language": "python",
   "name": "python3"
  },
  "language_info": {
   "name": "python",
   "version": "3.9.13"
  },
  "orig_nbformat": 4,
  "vscode": {
   "interpreter": {
    "hash": "ad2bdc8ecc057115af97d19610ffacc2b4e99fae6737bb82f5d7fb13d2f2c186"
   }
  }
 },
 "nbformat": 4,
 "nbformat_minor": 2
}
