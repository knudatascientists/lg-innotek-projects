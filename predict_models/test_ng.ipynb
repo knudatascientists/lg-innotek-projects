{
 "cells": [
  {
   "cell_type": "code",
   "execution_count": null,
   "metadata": {},
   "outputs": [],
   "source": [
    "import cv2\n",
    "import numpy as np\n",
    "\n",
    "\n",
    "def white_img_extract(FILENAME):\n",
    "    \"\"\"전체 화면에서 흰 화면만 뽑아내기\n",
    "\n",
    "    Args:\n",
    "        FILENAME (_type_): 파일이름\n",
    "\n",
    "    Returns:\n",
    "        _type_: ndarray\n",
    "    \"\"\"\n",
    "    img = cv2.imread(FILENAME)\n",
    "\n",
    "    # 전처리 과정\n",
    "    gray = cv2.cvtColor(img, cv2.COLOR_BGR2GRAY)\n",
    "    blur = cv2.GaussianBlur(gray, (3, 3), 0)\n",
    "    thresh = cv2.Canny(blur, 50, 200)\n",
    "\n",
    "    # 윤곽선 찾아내기\n",
    "    contours, hierarchy = cv2.findContours(\n",
    "        thresh, cv2.RETR_LIST, cv2.CHAIN_APPROX_SIMPLE\n",
    "    )\n",
    "    # contours, hierarchy = cv2.findContours(thresh, cv2.RETR_EXTERNAL, cv2.CHAIN_APPROX_NONE)\n",
    "\n",
    "    # 이미지 크롭\n",
    "    sl = []\n",
    "    box_sl = []\n",
    "\n",
    "    for cnt in contours:\n",
    "        pt, hw, ang = cv2.minAreaRect(cnt)\n",
    "        # minAreaRect 입력값: contours, 반환값: 좌측상단 점, (가로,세로), 각도\n",
    "        if hw[0] > 1000 and hw[1] > 500:\n",
    "            # if hw[0]>500:\n",
    "            sl.append([pt, hw, ang])\n",
    "\n",
    "    for i in sl:\n",
    "        box = cv2.boxPoints((i[0], i[1], i[2]))\n",
    "        box_sl.append(np.int0(box))\n",
    "\n",
    "    # 이미지 보여주기\n",
    "    for box in box_sl:\n",
    "        img = cv2.drawContours(img, [box], 0, (0, 255, 0), 3)\n",
    "\n",
    "    cv2.namedWindow(\"img\", flags=cv2.WINDOW_NORMAL)\n",
    "    cv2.imshow(\"img\", img)\n",
    "    cv2.waitKey()\n",
    "    cv2.destroyAllWindows()\n",
    "\n",
    "    # 원근변환 이용해서 필요한 이미지 추출\n",
    "    box = np.float32(box)\n",
    "    next_arr = np.array([[0, 0], [1200, 0], [1200, 1600], [0, 1600]], dtype=np.float32)\n",
    "    per_mat = cv2.getPerspectiveTransform(box, next_arr)\n",
    "    per = cv2.warpPerspective(img, per_mat, (1200, 1600))\n",
    "\n",
    "    # 원근변환한 이미지 보여주기\n",
    "    cv2.imshow(\"per\", per)\n",
    "    cv2.waitKey()\n",
    "    cv2.destroyAllWindows()\n",
    "    return per\n",
    "\n",
    "\n",
    "# 예시\n",
    "if \"__main__\" == __name__:\n",
    "    white_img_extract(\"case2_2.jpg\")"
   ]
  }
 ],
 "metadata": {
  "kernelspec": {
   "display_name": "Python 3.9.13 ('EV_PY39')",
   "language": "python",
   "name": "python3"
  },
  "language_info": {
   "name": "python",
   "version": "3.9.13"
  },
  "orig_nbformat": 4,
  "vscode": {
   "interpreter": {
    "hash": "d1dde8d3f1fc6169eb2afb9c884f1482ff31994a855398e316a83a9dc8ff488b"
   }
  }
 },
 "nbformat": 4,
 "nbformat_minor": 2
}
