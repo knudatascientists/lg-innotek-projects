{
 "cells": [
  {
   "cell_type": "code",
   "execution_count": 241,
   "metadata": {},
   "outputs": [],
   "source": [
    "import cv2"
   ]
  },
  {
   "cell_type": "code",
   "execution_count": 242,
   "metadata": {},
   "outputs": [],
   "source": [
    "def find_large_label(img, img_bin):\n",
    "    test_img = img.copy()\n",
    "    _, labels, stats, centroids = cv2.connectedComponentsWithStats(img_bin)\n",
    "    stats = sorted(stats, key = lambda x: x[4],reverse=True)\n",
    "    # for i, rec in enumerate(stats[0:7]):\n",
    "    #     x,y,w,h, area = rec\n",
    "    #     cv2.rectangle(test_img, (x,y,w,h), (0,0,255))\n",
    "\n",
    "    # cv2.imshow('items', img_resize(test_img, 600))\n",
    "    # cv2.waitKey(0)\n",
    "    # cv2.destroyAllWindows()\n",
    "    # print(stats[0])\n",
    "    return stats[1]"
   ]
  },
  {
   "cell_type": "code",
   "execution_count": 243,
   "metadata": {},
   "outputs": [],
   "source": [
    "def get_threshold(img,gray,bin_inverse = True):\n",
    "    if bin_inverse:\n",
    "        _, img_bin = cv2.threshold(gray, -1,255,cv2.THRESH_BINARY_INV | cv2.THRESH_OTSU)\n",
    "    else:\n",
    "        _, img_bin = cv2.threshold(gray, -1,255,cv2.THRESH_BINARY | cv2.THRESH_OTSU)\n",
    "\n",
    "    return img_bin\n"
   ]
  },
  {
   "cell_type": "code",
   "execution_count": 244,
   "metadata": {},
   "outputs": [],
   "source": [
    "def preproces(img, bin_inverse = True, only_bin = False):\n",
    "    gray = cv2.cvtColor(img, cv2.COLOR_BGR2GRAY)\n",
    "    img_bin = get_threshold(img,gray,bin_inverse = True)\n",
    "\n",
    "    large_stat = find_large_label(img, img_bin)\n",
    "    try:\n",
    "        item_img = img[large_stat[1]:large_stat[1]+large_stat[3],large_stat[0]:large_stat[0]+large_stat[2], :].copy()\n",
    "        item_gray = gray[large_stat[1]:large_stat[1]+large_stat[3],large_stat[0]:large_stat[0]+large_stat[2]].copy()\n",
    "    except:\n",
    "        item_img, item_gray= img,gray\n",
    "\n",
    "    item_bin = get_threshold(item_img,item_gray,bin_inverse = False)\n",
    "    return  item_img, item_gray, item_bin"
   ]
  },
  {
   "cell_type": "code",
   "execution_count": 388,
   "metadata": {},
   "outputs": [],
   "source": [
    "img_ok = cv2.imread('../team/images/true_ok/GSY827AN7A1356_AAO11960K_PKT10_CM1EQSUA0012_20220711210457_DirectLight_OK.jpg')\n",
    "img_ng = cv2.imread('../team/images/true_ng/GSY827AN7B0519_AAO12705K_PKT08_CM1EQSUA0011_20220711213213_DirectLight_NG.jpg')\n",
    "img_ng2 = cv2.imread('../team/images/true_ng/GSY827AN7A1641_AAO19043K_PKT13_CM1EQSUA0012_20220711220653_DirectLight_NG.jpg')\n",
    "img_over = cv2.imread('../team/images/overkill/GSY827AN7B0355_AAO04537K_PKT01_CM1EQSUA0011_20220711234650_DirectLight_NG.jpg')\n"
   ]
  },
  {
   "cell_type": "code",
   "execution_count": 246,
   "metadata": {},
   "outputs": [],
   "source": [
    "img_ng = cv2.imread('../team/images/true_ng/GSY827AN7D2341_AAO08637K_PKT11_CM1EQSUA0012_20220714014230_DirectLight_NG.jpg')"
   ]
  },
  {
   "cell_type": "code",
   "execution_count": 247,
   "metadata": {},
   "outputs": [],
   "source": [
    "import numpy as np\n",
    "def img_mask(img):\n",
    "    img_hsv = cv2.cvtColor(img, cv2.COLOR_BGR2HSV)\n",
    "    mask = cv2.inRange(img_hsv,(0,0,0),(0,0,100))\n",
    "    imask = mask>0\n",
    "    col = np.zeros_like(img_hsv, np.uint8)\n",
    "    col[imask] = img_hsv[imask]\n",
    "    col = cv2.cvtColor(col,cv2.COLOR_HSV2BGR)\n",
    "    return col"
   ]
  },
  {
   "cell_type": "code",
   "execution_count": 338,
   "metadata": {},
   "outputs": [],
   "source": [
    "import math\n",
    "# 두 점의 각도 계산\n",
    "def get_angle(pt1, pt2):\n",
    "    xd = abs(pt2[0] - pt1[0])\n",
    "    yd = abs(pt2[1] - pt1[1])\n",
    "    try:\n",
    "        radian = math.atan(yd/xd)\n",
    "    except:\n",
    "        radian = 0.5*math.pi\n",
    "    return radian\n"
   ]
  },
  {
   "cell_type": "code",
   "execution_count": 353,
   "metadata": {},
   "outputs": [
    {
     "data": {
      "text/plain": [
       "59.99999999999999"
      ]
     },
     "execution_count": 353,
     "metadata": {},
     "output_type": "execute_result"
    }
   ],
   "source": [
    "get_angle([0,0], [1,-(3**0.5)])*180/math.pi"
   ]
  },
  {
   "cell_type": "code",
   "execution_count": 302,
   "metadata": {},
   "outputs": [],
   "source": [
    "# 각도를 계산할 두 꼭짓점 찾기\n",
    "def get_points(cnt):\n",
    "    rect = cv2.minAreaRect(cnt)\n",
    "    box = cv2.boxPoints(rect)   # 중심점과 각도를 4개의 꼭지점 좌표로 변환\n",
    "    box = np.int0(box)          # 정수로 변환\n",
    "    # pt1_ind = cnt[:,:,1].argmin()\n",
    "    # pt2_ind = cnt[:,:,0].argmin()\n",
    "\n",
    "    return box"
   ]
  },
  {
   "cell_type": "code",
   "execution_count": 276,
   "metadata": {},
   "outputs": [
    {
     "data": {
      "text/plain": [
       "0.49999999999999994"
      ]
     },
     "execution_count": 276,
     "metadata": {},
     "output_type": "execute_result"
    }
   ],
   "source": [
    "math.sin(1/6*math.pi)"
   ]
  },
  {
   "cell_type": "code",
   "execution_count": 385,
   "metadata": {},
   "outputs": [],
   "source": [
    "def cnt_test(cnt):\n",
    "    volum_ratio_bound = 0.005\n",
    "    \"\"\"_summary_\n",
    "\n",
    "    Args:\n",
    "        cnt (_type_): _description_\n",
    "\n",
    "    Returns:\n",
    "        _type_: _description_\n",
    "    \"\"\"\n",
    "    w_max, w_min, h_max, h_min = (\n",
    "        cnt[:, :, 0].max(),\n",
    "        cnt[:, :, 0].min(),\n",
    "        cnt[:, :, 1].max(),\n",
    "        cnt[:, :, 1].min(),\n",
    "    )\n",
    "    # print(w_max - w_min, h_max - h_min)\n",
    "    area = cv2.contourArea(cnt)\n",
    "    arcLen = cv2.arcLength(cnt, closed=True)\n",
    "    box = get_points(cnt)\n",
    "    angle = get_angle(box[1], box[2])\n",
    "    # print(max_area, area,round(area/max_area,3), arcLen)\n",
    "    sin, cos = math.sin(angle), math.cos(angle)\n",
    "    cal_max_box = ((arcLen**2)/4 - 2*area)*(sin*cos)+area\n",
    "    max_box = (w_max-w_min)*(h_max-h_min)\n",
    "    print(round(cal_max_box/max_box,3), angle*180/math.pi)\n",
    "    # print(box[1:3], angle*180/math.pi)\n",
    "    if  cal_max_box/max_box < 1-volum_ratio_bound or cal_max_box/max_box > 1+volum_ratio_bound :\n",
    "        pred = 'NG'\n",
    "    else:\n",
    "        pred = 'ok'\n",
    "    return box, pred"
   ]
  },
  {
   "cell_type": "code",
   "execution_count": 378,
   "metadata": {},
   "outputs": [],
   "source": [
    "def check_contain(img_shape, cnt):\n",
    "    center_bound = 100\n",
    "    (x,y), radius = cv2.minEnclosingCircle(cnt)\n",
    "    center = (int(x), int(y))\n",
    "    radius = int(radius)\n",
    "    center_diff = ((int(img_shape[0]/2)-int(y))**2+(int(img_shape[1]/2) -int(x))**2)**0.5\n",
    "    # print(center, (img_shape[1]/2,img_shape[0]/2), center_diff)\n",
    "    if center_diff < center_bound:\n",
    "        return True\n",
    "    return False"
   ]
  },
  {
   "cell_type": "code",
   "execution_count": 379,
   "metadata": {},
   "outputs": [],
   "source": [
    "def find_contours(img, ip = None):\n",
    "    # img = cv2.resize(img, (0,0), fx = 0.3, fy = 0.3, interpolation=cv2.INTER_CUBIC)\n",
    "    item_img, item_gray, item_bin = preproces(img)\n",
    "    col = img_mask(item_img)\n",
    "    # contour, hierachy = cv2.findContours(item_bin, cv2.RETR_TREE,cv2.CHAIN_APPROX_NONE)\n",
    "    contour, hierachy = cv2.findContours(item_bin, cv2.RETR_TREE,cv2.CHAIN_APPROX_SIMPLE)\n",
    "    result = False\n",
    "    for i, cnt in enumerate(contour):\n",
    "\n",
    "        if cv2.contourArea(cnt) > 1500000:\n",
    "            if check_contain(item_img.shape, cnt):\n",
    "                cv2.drawContours(item_img, [cnt], 0,(255,0,0),5)\n",
    "                result = True\n",
    "                break\n",
    "        \n",
    "\n",
    "    if ip:\n",
    "        cv2.putText(img, ip, (10,60),cv2.FONT_HERSHEY_SIMPLEX,3,(0,255,0),3)\n",
    "    \n",
    "    pred = 'NG'\n",
    "    if result:\n",
    "        box, pred = cnt_test(cnt)\n",
    "        # print(box)\n",
    "        j=1\n",
    "        cols = [(255,255,255),(0,0,255),(0,255,0),(255,0,0)]\n",
    "        for i in box[1:3]:\n",
    "            cv2.circle(item_img,i,5,cols[j],10) \n",
    "            j+=1 \n",
    "        \n",
    "    cv2.putText(item_img, 'predicted '+pred, (10,60),cv2.FONT_HERSHEY_SIMPLEX,3,(0,255,0),3)\n",
    "\n",
    "\n",
    "    # print(item_img.shape)\n",
    "    # cv2.imshow('img', img)\n",
    "    cv2.imshow('item_img', cv2.resize(item_img, (0,0), fx = 0.3, fy = 0.3, interpolation=cv2.INTER_CUBIC))\n",
    "    # cv2.imshow('col', col)\n",
    "    # cv2.imshow('bin', item_bin)\n",
    "    \n",
    "    key_val = cv2.waitKey(0)\n",
    "    cv2.destroyAllWindows()\n",
    "\n",
    "    return key_val\n",
    "\n"
   ]
  },
  {
   "cell_type": "code",
   "execution_count": 380,
   "metadata": {},
   "outputs": [],
   "source": [
    "img_ng = cv2.imread('../team/images/true_ng/GSY827AN7D2341_AAO08637K_PKT11_CM1EQSUA0012_20220714014230_DirectLight_NG.jpg')\n",
    "img_ng"
   ]
  },
  {
   "cell_type": "code",
   "execution_count": 381,
   "metadata": {},
   "outputs": [],
   "source": [
    "img_ng = cv2.imread('../team/images/true_ng/GSY827AN7D2341_AAO08637K_PKT15_CM1EQSUA0012_20220714014226_DirectLight_NG.jpg')"
   ]
  },
  {
   "cell_type": "code",
   "execution_count": 389,
   "metadata": {},
   "outputs": [
    {
     "name": "stdout",
     "output_type": "stream",
     "text": [
      "0.998 89.90817991912832\n",
      "0.982 0.10913468613578126\n",
      "1.0 0.06837201947086552\n",
      "0.996 89.86303823813458\n"
     ]
    },
    {
     "data": {
      "text/plain": [
       "13"
      ]
     },
     "execution_count": 389,
     "metadata": {},
     "output_type": "execute_result"
    }
   ],
   "source": [
    "find_contours(img_ng, ip = 'NG')\n",
    "find_contours(img_ng2, ip = 'NG')\n",
    "find_contours(img_ok, ip = 'ok')\n",
    "find_contours(img_over, ip = 'ok')"
   ]
  },
  {
   "cell_type": "code",
   "execution_count": 367,
   "metadata": {},
   "outputs": [],
   "source": [
    "import os\n",
    "import random\n",
    "import time\n",
    "def check_img(kind = 'overkill'):\n",
    "    random.seed(time.time_ns()%10000)\n",
    "    if kind == 'all':\n",
    "        paths = os.listdir('../team/images/')\n",
    "        img_paths = []\n",
    "        for p in paths:\n",
    "            file_path = '../team/images/'+p+'/'\n",
    "            img_paths = list(map(lambda x: [file_path+ x, p], os.listdir(file_path)))\n",
    "        while True:\n",
    "            ip = random.choice(img_paths)\n",
    "            img = cv2.imread(ip[0])\n",
    "            \n",
    "            key_val= find_contours(img, ip =ip[1])\n",
    "            \n",
    "            if key_val == 113:\n",
    "                break\n",
    "\n",
    "    else:\n",
    "        file_path = '../team/images/'+kind+'/'\n",
    "        img_paths = os.listdir(file_path)\n",
    "        for i in range(len(img_paths)):\n",
    "            img = cv2.imread(file_path+img_paths[i])\n",
    "            key_val = find_contours(img,  ip = kind)\n",
    "            if key_val == 113: # ord('q')\n",
    "                break"
   ]
  },
  {
   "cell_type": "code",
   "execution_count": 191,
   "metadata": {},
   "outputs": [
    {
     "name": "stdout",
     "output_type": "stream",
     "text": [
      "[[[   0    0]]\n",
      "\n",
      " [[   0  493]]\n",
      "\n",
      " [[   1  493]]\n",
      "\n",
      " ...\n",
      "\n",
      " [[1746    4]]\n",
      "\n",
      " [[1746    1]]\n",
      "\n",
      " [[1745    0]]]\n",
      "[[[355 328]]\n",
      "\n",
      " [[355 331]]\n",
      "\n",
      " [[357 333]]\n",
      "\n",
      " ...\n",
      "\n",
      " [[364 335]]\n",
      "\n",
      " [[364 334]]\n",
      "\n",
      " [[358 328]]]\n"
     ]
    }
   ],
   "source": [
    "check_img('true_ng')"
   ]
  },
  {
   "cell_type": "code",
   "execution_count": 390,
   "metadata": {},
   "outputs": [
    {
     "name": "stdout",
     "output_type": "stream",
     "text": [
      "0.999 0.06837201947086552\n",
      "0.996 89.86303823813458\n",
      "1.0 0.2065944634734015\n",
      "1.002 89.58944809699032\n",
      "0.999 89.77191291062489\n"
     ]
    },
    {
     "name": "stderr",
     "output_type": "stream",
     "text": [
      "C:\\Users\\jhs85\\AppData\\Local\\Temp\\ipykernel_9936\\72081498.py:7: RuntimeWarning: divide by zero encountered in longlong_scalars\n",
      "  radian = math.atan(yd/xd)\n"
     ]
    },
    {
     "name": "stdout",
     "output_type": "stream",
     "text": [
      "0.998 90.0\n",
      "1.001 89.90810628647117\n",
      "1.0 0.10255796835506453\n",
      "1.0 89.81767514362203\n",
      "1.0 89.90876475941597\n"
     ]
    }
   ],
   "source": [
    "check_img('overkill')"
   ]
  },
  {
   "cell_type": "code",
   "execution_count": 133,
   "metadata": {},
   "outputs": [
    {
     "name": "stdout",
     "output_type": "stream",
     "text": [
      "(1231, 1798) (1232.0, 1028.0) 770.0006493503755\n",
      "(1225, 1003) (1232.0, 1028.0) 25.96150997149434\n",
      "(1231, 1808) (1232.0, 1028.0) 780.0006410253776\n",
      "(1219, 1030) (1232.0, 1028.0) 13.152946437965905\n",
      "(1231, 1793) (1232.0, 1028.0) 765.0006535944921\n",
      "(1243, 1017) (1232.0, 1028.0) 15.556349186104045\n",
      "(1231, 1789) (1232.0, 1028.0) 761.0006570299397\n",
      "(1225, 998) (1232.0, 1028.0) 30.805843601498726\n"
     ]
    }
   ],
   "source": [
    "check_img('true_ok')"
   ]
  },
  {
   "cell_type": "code",
   "execution_count": 27,
   "metadata": {},
   "outputs": [],
   "source": [
    "def img_resize(img, resize_size = 1600):\n",
    "    width_origin = img.shape[1]\n",
    "    height_origin = img.shape[0]\n",
    "    hw_list = [height_origin, width_origin]\n",
    "\n",
    "    img_ratio = float(resize_size)/ max(hw_list)\n",
    "    print(img_ratio)\n",
    "    max_index = hw_list.index(max(hw_list))\n",
    "    if max_index ==0:\n",
    "        img = cv2.resize(img, (int(width_origin * img_ratio), resize_size),interpolation=cv2.INTER_CUBIC)\n",
    "    else:\n",
    "        img = cv2.resize(img, (resize_size,int(height_origin * img_ratio)),interpolation=cv2.INTER_CUBIC)\n",
    "\n",
    "    return img\n"
   ]
  },
  {
   "cell_type": "code",
   "execution_count": null,
   "metadata": {},
   "outputs": [],
   "source": []
  }
 ],
 "metadata": {
  "kernelspec": {
   "display_name": "Python 3.11.0 64-bit",
   "language": "python",
   "name": "python3"
  },
  "language_info": {
   "codemirror_mode": {
    "name": "ipython",
    "version": 3
   },
   "file_extension": ".py",
   "mimetype": "text/x-python",
   "name": "python",
   "nbconvert_exporter": "python",
   "pygments_lexer": "ipython3",
   "version": "3.11.0"
  },
  "orig_nbformat": 4,
  "vscode": {
   "interpreter": {
    "hash": "d417a21d97a2e6b8832d21dc44f5cbe4be6e18325f874a8bb8484565b928cd54"
   }
  }
 },
 "nbformat": 4,
 "nbformat_minor": 2
}
