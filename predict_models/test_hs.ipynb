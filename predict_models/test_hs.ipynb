{
 "cells": [
  {
   "cell_type": "code",
   "execution_count": 32,
   "metadata": {},
   "outputs": [],
   "source": [
    "import cv2"
   ]
  },
  {
   "cell_type": "code",
   "execution_count": 117,
   "metadata": {},
   "outputs": [],
   "source": [
    "img_ok = cv2.imread('../team/images/true_ok/GSY827AN7A1356_AAO11960K_PKT10_CM1EQSUA0012_20220711210457_DirectLight_OK.jpg')\n",
    "img_ng = cv2.imread('../team/images/true_ng/GSY827AN7B0519_AAO12705K_PKT08_CM1EQSUA0011_20220711213213_DirectLight_NG.jpg')\n",
    "img_ng2 = cv2.imread('../team/images/true_ng/GSY827AN7A1641_AAO19043K_PKT13_CM1EQSUA0012_20220711220653_DirectLight_NG.jpg')\n",
    "img_over = cv2.imread('../team/images/overkill/GSY827AN7B0355_AAO04537K_PKT01_CM1EQSUA0011_20220711234650_DirectLight_NG.jpg')\n"
   ]
  },
  {
   "cell_type": "code",
   "execution_count": 118,
   "metadata": {},
   "outputs": [],
   "source": [
    "def img_resize(img, resize_size = 1600):\n",
    "    width_origin = img.shape[1]\n",
    "    height_origin = img.shape[0]\n",
    "    hw_list = [height_origin, width_origin]\n",
    "\n",
    "    img_ratio = float(resize_size)/ max(hw_list)\n",
    "    # print(img_ratio)\n",
    "    max_index = hw_list.index(max(hw_list))\n",
    "    if max_index ==0:\n",
    "        img = cv2.resize(img, (int(width_origin * img_ratio), resize_size),interpolation=cv2.INTER_CUBIC)\n",
    "    else:\n",
    "        img = cv2.resize(img, (resize_size,int(height_origin * img_ratio)),interpolation=cv2.INTER_CUBIC)\n",
    "\n",
    "    return img\n"
   ]
  },
  {
   "cell_type": "code",
   "execution_count": 132,
   "metadata": {},
   "outputs": [],
   "source": [
    "def find_large_label(img, img_bin, show_img = False):\n",
    "    test_img = img.copy()\n",
    "    _, labels, stats, centroids = cv2.connectedComponentsWithStats(img_bin,)\n",
    "    stats = sorted(stats, key = lambda x: x[4],reverse=True)\n",
    "    if show_img:\n",
    "        for i, rec in enumerate(stats[:2]):\n",
    "            x,y,w,h, area = rec\n",
    "            cv2.rectangle(test_img, (x,y,w,h), (0,0,255),thickness=8)\n",
    "\n",
    "        cv2.imshow('items', img_resize(test_img, 600))\n",
    "        cv2.imshow('items_bin', img_resize(img_bin, 600))\n",
    "        cv2.waitKey(0)\n",
    "        cv2.destroyAllWindows()\n",
    "        # print(stats[0])\n",
    "    if stats[0][1]==0:\n",
    "        return stats[1]\n",
    "    return stats[0]"
   ]
  },
  {
   "cell_type": "code",
   "execution_count": 133,
   "metadata": {},
   "outputs": [],
   "source": [
    "def get_threshold(img,gray,bin_inverse = True):\n",
    "    if bin_inverse:\n",
    "        _, img_bin = cv2.threshold(gray, -1,255,cv2.THRESH_BINARY_INV | cv2.THRESH_OTSU)\n",
    "    else:\n",
    "        _, img_bin = cv2.threshold(gray, -1,255,cv2.THRESH_BINARY | cv2.THRESH_OTSU)\n",
    "\n",
    "    return img_bin\n"
   ]
  },
  {
   "cell_type": "code",
   "execution_count": 134,
   "metadata": {},
   "outputs": [],
   "source": [
    "# img_ng = cv2.imread('../team/images/true_ng/GSY827AN7D2341_AAO08637K_PKT15_CM1EQSUA0012_20220714014226_DirectLight_NG.jpg')\n",
    "# # gray = cv2.cvtColor(img_ng, cv2.COLOR_BGR2GRAY)\n",
    "# # img_bin = get_threshold(img_ng,gray,bin_inverse = True)\n",
    "# # find_large_label(img_ng, img_bin, show_img = True)\n",
    "# item_img, item_gray, item_bin = preproces(img_ng)\n",
    "\n",
    "# cv2.imshow('img', img_resize(img_ng, 600))\n",
    "# cv2.imshow('items', img_resize(item_img, 600))\n",
    "# cv2.waitKey(0)\n",
    "# cv2.destroyAllWindows()\n",
    "\n"
   ]
  },
  {
   "cell_type": "code",
   "execution_count": 135,
   "metadata": {},
   "outputs": [],
   "source": [
    "def preproces(img, bin_inverse = True, only_bin = False):\n",
    "    gray = cv2.cvtColor(img, cv2.COLOR_BGR2GRAY)\n",
    "    img_bin = get_threshold(img,gray,bin_inverse = True)\n",
    "\n",
    "    large_stat = find_large_label(img, img_bin)\n",
    "    print(large_stat)\n",
    "    try:\n",
    "        item_img = img[large_stat[1]:large_stat[1]+large_stat[3],large_stat[0]:large_stat[0]+large_stat[2], :].copy()\n",
    "        item_gray = gray[large_stat[1]:large_stat[1]+large_stat[3],large_stat[0]:large_stat[0]+large_stat[2]].copy()\n",
    "    except:\n",
    "        item_img, item_gray= img,gray\n",
    "\n",
    "    item_bin = get_threshold(item_img,item_gray,bin_inverse = False)\n",
    "    return  item_img, item_gray, item_bin"
   ]
  },
  {
   "cell_type": "code",
   "execution_count": 136,
   "metadata": {},
   "outputs": [],
   "source": [
    "import numpy as np\n",
    "def img_mask(img):\n",
    "    img_hsv = cv2.cvtColor(img, cv2.COLOR_BGR2HSV)\n",
    "    mask = cv2.inRange(img_hsv,(0,0,0),(0,0,100))\n",
    "    imask = mask>0\n",
    "    col = np.zeros_like(img_hsv, np.uint8)\n",
    "    col[imask] = img_hsv[imask]\n",
    "    col = cv2.cvtColor(col,cv2.COLOR_HSV2BGR)\n",
    "    return col"
   ]
  },
  {
   "cell_type": "code",
   "execution_count": 137,
   "metadata": {},
   "outputs": [],
   "source": [
    "import math\n",
    "# 두 점의 각도 계산\n",
    "def get_angle(pt1, pt2):\n",
    "    xd = abs(pt2[0] - pt1[0])\n",
    "    yd = abs(pt2[1] - pt1[1])\n",
    "    if xd == 0:\n",
    "        radian = 0.5*math.pi\n",
    "    else:\n",
    "        radian = math.atan(yd/xd)\n",
    "    return radian\n"
   ]
  },
  {
   "cell_type": "code",
   "execution_count": 138,
   "metadata": {},
   "outputs": [
    {
     "data": {
      "text/plain": [
       "59.99999999999999"
      ]
     },
     "execution_count": 138,
     "metadata": {},
     "output_type": "execute_result"
    }
   ],
   "source": [
    "get_angle([0,0], [1,-(3**0.5)])*180/math.pi"
   ]
  },
  {
   "cell_type": "code",
   "execution_count": 139,
   "metadata": {},
   "outputs": [],
   "source": [
    "# 각도를 계산할 두 꼭짓점 찾기\n",
    "def get_points(cnt):\n",
    "    rect = cv2.minAreaRect(cnt)\n",
    "    box = cv2.boxPoints(rect)   # 중심점과 각도를 4개의 꼭지점 좌표로 변환\n",
    "    box = np.int0(box)          # 정수로 변환\n",
    "    # pt1_ind = cnt[:,:,1].argmin()\n",
    "    # pt2_ind = cnt[:,:,0].argmin()\n",
    "\n",
    "    return box"
   ]
  },
  {
   "cell_type": "code",
   "execution_count": 140,
   "metadata": {},
   "outputs": [
    {
     "data": {
      "text/plain": [
       "0.49999999999999994"
      ]
     },
     "execution_count": 140,
     "metadata": {},
     "output_type": "execute_result"
    }
   ],
   "source": [
    "math.sin(1/6*math.pi)"
   ]
  },
  {
   "cell_type": "code",
   "execution_count": 157,
   "metadata": {},
   "outputs": [],
   "source": [
    "def cnt_test(cnt):\n",
    "    volum_ratio_bound = 0.005\n",
    "    \"\"\"_summary_\n",
    "\n",
    "    Args:\n",
    "        cnt (_type_): _description_\n",
    "\n",
    "    Returns:\n",
    "        _type_: _description_\n",
    "    \"\"\"\n",
    "    # w_max, w_min, h_max, h_min = (\n",
    "    #     cnt[:, :, 0].max(),\n",
    "    #     cnt[:, :, 0].min(),\n",
    "    #     cnt[:, :, 1].max(),\n",
    "    #     cnt[:, :, 1].min(),\n",
    "    # )\n",
    "    # print(w_max - w_min, h_max - h_min)\n",
    "    area = cv2.contourArea(cnt)\n",
    "    arcLen = cv2.arcLength(cnt, closed=True)\n",
    "    box = get_points(cnt)\n",
    "    s_box = sorted(box, key = lambda x: x[0]+x[1])\n",
    "    # print(s_box)\n",
    "    point1, point2 = s_box[0],s_box[2]\n",
    "    angle = get_angle(point1, point2)\n",
    "    # print(max_area, area,round(area/max_area,3), arcLen)\n",
    "    sin, cos = math.sin(angle), math.cos(angle)\n",
    "    cal_max_box = ((arcLen**2)/4 - 2*area)*(sin*cos)+area\n",
    "    # max_box = (w_max-w_min)*(h_max-h_min)\n",
    "    max_box = cv2.contourArea(box)\n",
    "    print(round(cal_max_box/max_box,3), angle*180/math.pi)\n",
    "    # print(box[1:3], angle*180/math.pi)\n",
    "    if  cal_max_box/max_box < 1-volum_ratio_bound or cal_max_box/max_box > 1+volum_ratio_bound :\n",
    "        pred = 'NG'\n",
    "    else:\n",
    "        pred = 'ok'\n",
    "    return point1, point2, pred"
   ]
  },
  {
   "cell_type": "code",
   "execution_count": 142,
   "metadata": {},
   "outputs": [],
   "source": [
    "def check_contain(img_shape, cnt):\n",
    "    center_bound = 100\n",
    "    (x,y), radius = cv2.minEnclosingCircle(cnt)\n",
    "    # center = (int(x), int(y))\n",
    "    radius = int(radius)\n",
    "    center_diff = ((int(img_shape[0]/2)-int(y))**2+(int(img_shape[1]/2) -int(x))**2)**0.5\n",
    "    # print(center, (img_shape[1]/2,img_shape[0]/2), center_diff)\n",
    "    if center_diff < center_bound:\n",
    "        return True\n",
    "    return False"
   ]
  },
  {
   "cell_type": "code",
   "execution_count": 143,
   "metadata": {},
   "outputs": [],
   "source": [
    "def find_contours(img, ip = None):\n",
    "    # img = cv2.resize(img, (0,0), fx = 0.3, fy = 0.3, interpolation=cv2.INTER_CUBIC)\n",
    "    item_img, item_gray, item_bin = preproces(img)\n",
    "    col = img_mask(item_img)\n",
    "    # contour, hierachy = cv2.findContours(item_bin, cv2.RETR_TREE,cv2.CHAIN_APPROX_NONE)\n",
    "    contour, hierachy = cv2.findContours(item_bin, cv2.RETR_TREE,cv2.CHAIN_APPROX_SIMPLE)\n",
    "    result = False\n",
    "    for i, cnt in enumerate(contour):\n",
    "\n",
    "        if cv2.contourArea(cnt) > 1500000:\n",
    "            if check_contain(item_img.shape, cnt):\n",
    "                cv2.drawContours(item_img, [cnt], 0,(255,0,0),5)\n",
    "                result = True\n",
    "                break\n",
    "        \n",
    "\n",
    "    if ip:\n",
    "        cv2.putText(img, ip, (10,60),cv2.FONT_HERSHEY_SIMPLEX,3,(0,255,0),3)\n",
    "    \n",
    "    pred = 'NG'\n",
    "    if result:\n",
    "        point1, point2, pred = cnt_test(cnt)\n",
    "        # print(box)\n",
    "        j=1\n",
    "        cols = [(255,255,255),(0,0,255),(0,255,0),(255,0,0)]\n",
    "        # point1x,point1y = point1\n",
    "        # point2x,point2y = point2\n",
    "        \n",
    "        cv2.circle(item_img,point1,5,cols[1],10) \n",
    "        cv2.circle(item_img,point2,5,cols[2],10) \n",
    "\n",
    "        \n",
    "    cv2.putText(item_img, 'predicted '+pred, (10,60),cv2.FONT_HERSHEY_SIMPLEX,3,(0,255,0),3)\n",
    "\n",
    "\n",
    "    # print(item_img.shape)\n",
    "    # cv2.imshow('img', img)\n",
    "    cv2.imshow('item_img', cv2.resize(item_img, (0,0), fx = 0.3, fy = 0.3, interpolation=cv2.INTER_CUBIC))\n",
    "    # cv2.imshow('col', col)\n",
    "    # cv2.imshow('bin', item_bin)\n",
    "    \n",
    "    key_val = cv2.waitKey(0)\n",
    "    cv2.destroyAllWindows()\n",
    "\n",
    "    return key_val\n",
    "\n"
   ]
  },
  {
   "cell_type": "code",
   "execution_count": 144,
   "metadata": {},
   "outputs": [
    {
     "name": "stdout",
     "output_type": "stream",
     "text": [
      "[      0     140    2464    1772 1667785]\n",
      "[      0     144    2464    1762 1831883]\n",
      "[      0     106    2464    1794 1745382]\n",
      "[      0     129    2464    1766 1664577]\n"
     ]
    },
    {
     "data": {
      "text/plain": [
       "13"
      ]
     },
     "execution_count": 144,
     "metadata": {},
     "output_type": "execute_result"
    }
   ],
   "source": [
    "find_contours(img_ng, ip = 'NG')\n",
    "find_contours(img_ng2, ip = 'NG')\n",
    "find_contours(img_ok, ip = 'ok')\n",
    "find_contours(img_over, ip = 'ok')"
   ]
  },
  {
   "cell_type": "code",
   "execution_count": 148,
   "metadata": {},
   "outputs": [],
   "source": [
    "import os\n",
    "import random\n",
    "import time\n",
    "def check_img(kind = 'overkill'):\n",
    "    random.seed(time.time_ns()%10000)\n",
    "    if kind == 'all':\n",
    "        paths = os.listdir('../team/images/')\n",
    "        img_paths = []\n",
    "        for p in paths:\n",
    "            file_path = '../team/images/'+p+'/'\n",
    "            img_paths = list(map(lambda x: [file_path+ x, p], os.listdir(file_path)))\n",
    "        while True:\n",
    "            ip = random.choice(img_paths)\n",
    "            img = cv2.imread(ip[0])\n",
    "            \n",
    "            key_val= find_contours(img, ip =ip[1])\n",
    "            \n",
    "            if key_val == 113:\n",
    "                break\n",
    "\n",
    "    else:\n",
    "        file_path = '../team/images/'+kind+'/'\n",
    "        img_paths = os.listdir(file_path)\n",
    "        for i in range(len(img_paths)):\n",
    "            img = cv2.imread(file_path+img_paths[i])\n",
    "            key_val = find_contours(img,  ip = kind)\n",
    "            if key_val == 113: # ord('q')\n",
    "                break"
   ]
  },
  {
   "cell_type": "code",
   "execution_count": 156,
   "metadata": {},
   "outputs": [
    {
     "name": "stdout",
     "output_type": "stream",
     "text": [
      "[     40     144    2319    1765 1585512]\n",
      "0.968 0.23930079028303866\n",
      "[      0     144    2464    1769 1685854]\n",
      "0.95 0.10105065274517852\n",
      "[      0     161    2464    1769 1834001]\n",
      "1.025 0.43764225508377574\n",
      "[      0     144    2464    1762 1831883]\n",
      "0.982 0.10913468613578126\n",
      "[      0     153    2464    1762 2842876]\n",
      "0.951 0.0\n",
      "[      0     158    2464    1770 2753339]\n",
      "0.951 0.0\n",
      "[      0     130    2464    1797 1744433]\n",
      "1.001 0.06837201947086552\n",
      "[      0     123    2464    1761 1647404]\n",
      "0.96 0.0\n",
      "[      0     144    2464    1797 1684902]\n",
      "0.957 0.19894287936062627\n",
      "[      0     140    2464    1772 1667785]\n",
      "0.998 0.0688650864458102\n",
      "[      0     117    2464    1770 1692319]\n",
      "0.974 0.1368254820237406\n",
      "[      0     129    2464    1806 1725318]\n",
      "0.983 0.06837201947086552\n",
      "[      0     155    2416    1792 1645204]\n",
      "0.971 0.06837201947086552\n",
      "[      0     122    2464    1797 1728219]\n",
      "0.975 0.2683623443873789\n",
      "[      0     103    2464    1789 1753556]\n",
      "0.992 0.16871499974021562\n",
      "[      0     161    2464    1784 1705635]\n",
      "0.966 0.0\n",
      "[      0     174    2464    1766 1691778]\n",
      "0.962 0.23358662466989416\n",
      "[      0     124    2464    1813 1707097]\n",
      "0.998 0.13772997392475084\n",
      "[      0     175    2464    1762 1670945]\n",
      "1.009 0.4131835550275732\n",
      "[      0     141    2464    1773 1713402]\n",
      "0.991 0.13772997392475084\n",
      "[      0     140    2464    1766 1678653]\n",
      "0.993 0.0\n",
      "[      0     145    2464    1774 1633771]\n",
      "0.997 0.48204446341054996\n",
      "[      0     163    2464    1776 1742951]\n",
      "0.956 0.13332327190630622\n",
      "[      0     165    2464    1770 1707628]\n",
      "0.955 0.1664602507509483\n",
      "[      0     132    2464    1778 1705080]\n",
      "0.999 0.3035062933623107\n",
      "[      0     160    2464    1774 1683773]\n",
      "1.001 0.1709296227199833\n"
     ]
    }
   ],
   "source": [
    "check_img('true_ng')"
   ]
  },
  {
   "cell_type": "code",
   "execution_count": 155,
   "metadata": {},
   "outputs": [
    {
     "name": "stdout",
     "output_type": "stream",
     "text": [
      "[      0     134    2464    1800 1751696]\n",
      "1.0 0.06837201947086552\n",
      "[      0     129    2464    1766 1664577]\n",
      "0.998 0.13764725353806873\n",
      "[      0     150    2464    1762 1656273]\n",
      "1.003 0.2065944634734015\n",
      "[      0      99    2464    1802 1767679]\n",
      "1.013 0.4104702039341763\n",
      "[      0     137    2464    1811 1756314]\n",
      "1.008 0.27348613066685795\n",
      "[      0     139    2464    1805 1715774]\n",
      "0.998 0.0\n",
      "[      0     137    2464    1768 1698671]\n",
      "1.001 0.0688650864458102\n",
      "[      0     151    2464    1775 1683656]\n",
      "1.002 0.10255796835506453\n",
      "[      0     145    2464    1780 1700053]\n",
      "1.006 0.20511527952129663\n",
      "[      0     137    2464    1811 1756556]\n",
      "1.0 0.06837201947086552\n"
     ]
    }
   ],
   "source": [
    "check_img('overkill')"
   ]
  },
  {
   "cell_type": "code",
   "execution_count": 158,
   "metadata": {},
   "outputs": [
    {
     "name": "stdout",
     "output_type": "stream",
     "text": [
      "[      0     106    2464    1794 1745382]\n",
      "1.0 0.06837201947086552\n",
      "[      0     141    2464    1772 1696337]\n",
      "1.0 0.06837201947086552\n",
      "[      0     135    2464    1755 1644439]\n",
      "0.999 0.0\n",
      "[      0     131    2464    1756 1631219]\n",
      "1.002 0.1026191968619867\n",
      "[      0     131    2464    1799 1731900]\n",
      "1.009 0.27364940348652206\n",
      "[      0     147    2464    1774 1673518]\n",
      "0.999 0.0\n",
      "[      0     126    2464    1817 1675165]\n",
      "0.999 0.0\n",
      "[      0     135    2464    1809 1776288]\n",
      "0.999 0.0\n",
      "[      0     107    2464    1795 1763492]\n",
      "1.0 0.0\n"
     ]
    }
   ],
   "source": [
    "check_img('true_ok')"
   ]
  },
  {
   "cell_type": "code",
   "execution_count": null,
   "metadata": {},
   "outputs": [],
   "source": []
  }
 ],
 "metadata": {
  "kernelspec": {
   "display_name": "Python 3.8.2 ('teamP': venv)",
   "language": "python",
   "name": "python3"
  },
  "language_info": {
   "codemirror_mode": {
    "name": "ipython",
    "version": 3
   },
   "file_extension": ".py",
   "mimetype": "text/x-python",
   "name": "python",
   "nbconvert_exporter": "python",
   "pygments_lexer": "ipython3",
   "version": "3.8.2"
  },
  "orig_nbformat": 4,
  "vscode": {
   "interpreter": {
    "hash": "2609a2b9096678a109be2a8ba02f88f98b4c4bcbf60615abe3360d8f8e35f61b"
   }
  }
 },
 "nbformat": 4,
 "nbformat_minor": 2
}
