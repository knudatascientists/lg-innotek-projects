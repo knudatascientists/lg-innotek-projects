{
 "cells": [
  {
   "cell_type": "code",
   "execution_count": 1,
   "metadata": {},
   "outputs": [],
   "source": [
    "import cv2"
   ]
  },
  {
   "cell_type": "code",
   "execution_count": 2,
   "metadata": {},
   "outputs": [],
   "source": [
    "def find_large_label(img, gray, img_bin,bin_inverse = True ):\n",
    "\n",
    "    _, labels, stats, centroids = cv2.connectedComponentsWithStats(img_bin)\n",
    "    stats = sorted(stats, key = lambda x: x[4],reverse=True)\n",
    "    # for i, rec in enumerate(stats[1:2]):\n",
    "    #     x,y,w,h, area = rec\n",
    "    #     cv2.rectangle(img, (x,y,w,h), (0,0,255))\n",
    "\n",
    "    # cv2.imshow('item_img', img)\n",
    "    # cv2.imshow('bin', img_bin)\n",
    "    # cv2.imshow('item_bin', img_bin)\n",
    "    # cv2.waitKey(0)\n",
    "    # cv2.destroyAllWindows()\n",
    "    # print(stats)\n",
    "    if bin_inverse == True:\n",
    "        return stats[1]\n",
    "    else:\n",
    "        return stats[0]"
   ]
  },
  {
   "cell_type": "code",
   "execution_count": 3,
   "metadata": {},
   "outputs": [],
   "source": [
    "def get_threshold(img,gray,bin_inverse = True):\n",
    "    if bin_inverse:\n",
    "        _, img_bin = cv2.threshold(gray, -1,255,cv2.THRESH_BINARY_INV | cv2.THRESH_OTSU)\n",
    "    else:\n",
    "        _, img_bin = cv2.threshold(gray, -1,255,cv2.THRESH_BINARY | cv2.THRESH_OTSU)\n",
    "\n",
    "    return img_bin\n"
   ]
  },
  {
   "cell_type": "code",
   "execution_count": 4,
   "metadata": {},
   "outputs": [],
   "source": [
    "def preproces(img, bin_inverse = True, only_bin = False):\n",
    "    gray = cv2.cvtColor(img, cv2.COLOR_BGR2GRAY)\n",
    "    img_bin = get_threshold(img,gray,bin_inverse = True)\n",
    "\n",
    "    large_stat = find_large_label(img, gray, img_bin)\n",
    "    try:\n",
    "        item_img = img[large_stat[1]:large_stat[1]+large_stat[3],large_stat[0]:large_stat[0]+large_stat[2], :]\n",
    "        item_gray = gray[large_stat[1]:large_stat[1]+large_stat[3],large_stat[0]:large_stat[0]+large_stat[2]]\n",
    "    except:\n",
    "        item_img, item_gray= img,gray\n",
    "\n",
    "    item_bin = get_threshold(item_img,item_gray,bin_inverse = False)\n",
    "    return  item_img, item_gray, item_bin"
   ]
  },
  {
   "cell_type": "code",
   "execution_count": 5,
   "metadata": {},
   "outputs": [],
   "source": [
    "img_ok = cv2.imread('../team/images/true_ok/GSY827AN7A1356_AAO11960K_PKT10_CM1EQSUA0012_20220711210457_DirectLight_OK.jpg')\n",
    "img_ng = cv2.imread('../team/images/true_ng/GSY827AN7B0519_AAO12705K_PKT08_CM1EQSUA0011_20220711213213_DirectLight_NG.jpg')\n",
    "img_ng2 = cv2.imread('../team/images/true_ng/GSY827AN7A1641_AAO19043K_PKT13_CM1EQSUA0012_20220711220653_DirectLight_NG.jpg')\n",
    "img_over = cv2.imread('../team/images/overkill/GSY827AN7B0355_AAO04537K_PKT01_CM1EQSUA0011_20220711234650_DirectLight_NG.jpg')\n"
   ]
  },
  {
   "cell_type": "code",
   "execution_count": 15,
   "metadata": {},
   "outputs": [],
   "source": [
    "def find_contours(img, key = False):\n",
    "    img = cv2.resize(img, (0,0), fx = 0.3, fy = 0.3, interpolation=cv2.INTER_CUBIC)\n",
    "    item_img, item_gray, item_bin = preproces(img)\n",
    "    \n",
    "    contour, hierachy = cv2.findContours(item_bin, cv2.RETR_TREE,cv2.CHAIN_APPROX_NONE)\n",
    "\n",
    "    for i, cnt in enumerate(contour):\n",
    "        if cv2.contourArea(cnt) > 180000:\n",
    "            cv2.drawContours(item_img, [cnt], 0,(0,0,255),5)\n",
    "    cv2.imshow('img', img)\n",
    "    cv2.imshow('item_img', item_img)\n",
    "    # cv2.imshow('bin', item_bin)\n",
    "    if key:\n",
    "        key_val = cv2.waitKey(0)\n",
    "        cv2.destroyAllWindows()\n",
    "        return key_val\n",
    "    cv2.waitKey(0)\n",
    "    cv2.destroyAllWindows()\n",
    "\n",
    "    # return hierachy\n",
    "\n"
   ]
  },
  {
   "cell_type": "code",
   "execution_count": 16,
   "metadata": {},
   "outputs": [],
   "source": [
    "find_contours(img_ok)\n",
    "find_contours(img_ng)\n",
    "find_contours(img_ng2)"
   ]
  },
  {
   "cell_type": "code",
   "execution_count": 17,
   "metadata": {},
   "outputs": [],
   "source": [
    "find_contours(img_over)"
   ]
  },
  {
   "cell_type": "code",
   "execution_count": 20,
   "metadata": {},
   "outputs": [],
   "source": [
    "import os\n",
    "\n",
    "def check_img(kind = 'overkill'):\n",
    "    file_path = '../team/images/'+kind+'/'\n",
    "    img_paths = os.listdir(file_path)\n",
    "    for i in range(len(img_paths)):\n",
    "        img_over = cv2.imread(file_path+img_paths[i])\n",
    "        key_val = find_contours(img_over, key = True)\n",
    "        if key_val == ord('q'):\n",
    "            break"
   ]
  },
  {
   "cell_type": "code",
   "execution_count": 21,
   "metadata": {},
   "outputs": [],
   "source": [
    "check_img()"
   ]
  },
  {
   "cell_type": "code",
   "execution_count": null,
   "metadata": {},
   "outputs": [],
   "source": []
  }
 ],
 "metadata": {
  "kernelspec": {
   "display_name": "Python 3.8.2 ('teamP': venv)",
   "language": "python",
   "name": "python3"
  },
  "language_info": {
   "codemirror_mode": {
    "name": "ipython",
    "version": 3
   },
   "file_extension": ".py",
   "mimetype": "text/x-python",
   "name": "python",
   "nbconvert_exporter": "python",
   "pygments_lexer": "ipython3",
   "version": "3.8.2"
  },
  "orig_nbformat": 4,
  "vscode": {
   "interpreter": {
    "hash": "2609a2b9096678a109be2a8ba02f88f98b4c4bcbf60615abe3360d8f8e35f61b"
   }
  }
 },
 "nbformat": 4,
 "nbformat_minor": 2
}
