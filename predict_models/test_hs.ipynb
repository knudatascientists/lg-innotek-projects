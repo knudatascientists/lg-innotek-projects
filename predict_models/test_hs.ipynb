{
 "cells": [
  {
   "cell_type": "code",
   "execution_count": 1,
   "metadata": {},
   "outputs": [],
   "source": [
    "import cv2"
   ]
  },
  {
   "cell_type": "code",
   "execution_count": 2,
   "metadata": {},
   "outputs": [],
   "source": [
    "def find_large_label(img, gray, img_bin,bin_inverse = True ):\n",
    "\n",
    "    _, labels, stats, centroids = cv2.connectedComponentsWithStats(img_bin)\n",
    "    stats = sorted(stats, key = lambda x: x[4],reverse=True)\n",
    "    # for i, rec in enumerate(stats[1:2]):\n",
    "    #     x,y,w,h, area = rec\n",
    "    #     cv2.rectangle(img, (x,y,w,h), (0,0,255))\n",
    "\n",
    "    # cv2.imshow('item_img', img)\n",
    "    # cv2.imshow('bin', img_bin)\n",
    "    # cv2.imshow('item_bin', img_bin)\n",
    "    # cv2.waitKey(0)\n",
    "    # cv2.destroyAllWindows()\n",
    "    # print(stats)\n",
    "    if bin_inverse == True:\n",
    "        return stats[1]\n",
    "    else:\n",
    "        return stats[0]"
   ]
  },
  {
   "cell_type": "code",
   "execution_count": 3,
   "metadata": {},
   "outputs": [],
   "source": [
    "def get_threshold(img,gray,bin_inverse = True):\n",
    "    if bin_inverse:\n",
    "        _, img_bin = cv2.threshold(gray, -1,255,cv2.THRESH_BINARY_INV | cv2.THRESH_OTSU)\n",
    "    else:\n",
    "        _, img_bin = cv2.threshold(gray, -1,255,cv2.THRESH_BINARY | cv2.THRESH_OTSU)\n",
    "\n",
    "    return img_bin\n"
   ]
  },
  {
   "cell_type": "code",
   "execution_count": 4,
   "metadata": {},
   "outputs": [],
   "source": [
    "def preproces(img, bin_inverse = True, only_bin = False):\n",
    "    gray = cv2.cvtColor(img, cv2.COLOR_BGR2GRAY)\n",
    "    img_bin = get_threshold(img,gray,bin_inverse = True)\n",
    "\n",
    "    large_stat = find_large_label(img, gray, img_bin)\n",
    "    try:\n",
    "        item_img = img[large_stat[1]:large_stat[1]+large_stat[3],large_stat[0]:large_stat[0]+large_stat[2], :].copy()\n",
    "        item_gray = gray[large_stat[1]:large_stat[1]+large_stat[3],large_stat[0]:large_stat[0]+large_stat[2]].copy()\n",
    "    except:\n",
    "        item_img, item_gray= img,gray\n",
    "\n",
    "    item_bin = get_threshold(item_img,item_gray,bin_inverse = False)\n",
    "    return  item_img, item_gray, item_bin"
   ]
  },
  {
   "cell_type": "code",
   "execution_count": 14,
   "metadata": {},
   "outputs": [],
   "source": [
    "img_ok = cv2.imread('../team/images/true_ok/GSY827AN7A1356_AAO11960K_PKT10_CM1EQSUA0012_20220711210457_DirectLight_OK.jpg')\n",
    "img_ng = cv2.imread('../team/images/true_ng/GSY827AN7B0519_AAO12705K_PKT08_CM1EQSUA0011_20220711213213_DirectLight_NG.jpg')\n",
    "img_ng2 = cv2.imread('../team/images/true_ng/GSY827AN7A1641_AAO19043K_PKT13_CM1EQSUA0012_20220711220653_DirectLight_NG.jpg')\n",
    "img_over = cv2.imread('../team/images/overkill/GSY827AN7B0355_AAO04537K_PKT01_CM1EQSUA0011_20220711234650_DirectLight_NG.jpg')\n"
   ]
  },
  {
   "cell_type": "code",
   "execution_count": 15,
   "metadata": {},
   "outputs": [],
   "source": [
    "img_ok"
   ]
  },
  {
   "cell_type": "code",
   "execution_count": 10,
   "metadata": {},
   "outputs": [
    {
     "ename": "error",
     "evalue": "OpenCV(4.6.0) D:\\a\\opencv-python\\opencv-python\\opencv\\modules\\highgui\\src\\window.cpp:967: error: (-215:Assertion failed) size.width>0 && size.height>0 in function 'cv::imshow'\n",
     "output_type": "error",
     "traceback": [
      "\u001b[1;31m---------------------------------------------------------------------------\u001b[0m",
      "\u001b[1;31merror\u001b[0m                                     Traceback (most recent call last)",
      "Cell \u001b[1;32mIn [10], line 1\u001b[0m\n\u001b[1;32m----> 1\u001b[0m cv2\u001b[39m.\u001b[39;49mimshow(\u001b[39m'\u001b[39;49m\u001b[39mimg\u001b[39;49m\u001b[39m'\u001b[39;49m, img_ok)\n\u001b[0;32m      2\u001b[0m cv2\u001b[39m.\u001b[39mwaitKey(\u001b[39m0\u001b[39m)\n\u001b[0;32m      3\u001b[0m cv2\u001b[39m.\u001b[39mdestroyAllWindows()\n",
      "\u001b[1;31merror\u001b[0m: OpenCV(4.6.0) D:\\a\\opencv-python\\opencv-python\\opencv\\modules\\highgui\\src\\window.cpp:967: error: (-215:Assertion failed) size.width>0 && size.height>0 in function 'cv::imshow'\n"
     ]
    }
   ],
   "source": [
    "cv2.imshow('img', img_ok)\n",
    "cv2.waitKey(0)\n",
    "cv2.destroyAllWindows()"
   ]
  },
  {
   "cell_type": "code",
   "execution_count": 6,
   "metadata": {},
   "outputs": [],
   "source": [
    "def find_contours(img, key = False, ip = None):\n",
    "    img = cv2.resize(img, (0,0), fx = 0.3, fy = 0.3, interpolation=cv2.INTER_CUBIC)\n",
    "    item_img, item_gray, item_bin = preproces(img)\n",
    "    \n",
    "    contour, hierachy = cv2.findContours(item_bin, cv2.RETR_TREE,cv2.CHAIN_APPROX_NONE)\n",
    "\n",
    "    for i, cnt in enumerate(contour):\n",
    "        if cv2.contourArea(cnt) > 180000:\n",
    "            cv2.drawContours(item_img, [cnt], 0,(0,0,255),5)\n",
    "\n",
    "    if ip:\n",
    "        cv2.putText(img, ip, (10,60),cv2.FONT_HERSHEY_SIMPLEX,3,(0,255,0),3)\n",
    "    cv2.imshow('img', img)\n",
    "    cv2.imshow('item_img', item_img)\n",
    "    # cv2.imshow('bin', item_bin)\n",
    "    if key:\n",
    "        key_val = cv2.waitKey(0)\n",
    "        cv2.destroyAllWindows()\n",
    "        return key_val\n",
    "    cv2.waitKey(0)\n",
    "    cv2.destroyAllWindows()\n",
    "\n",
    "    # return hierachy\n",
    "\n"
   ]
  },
  {
   "cell_type": "code",
   "execution_count": 8,
   "metadata": {},
   "outputs": [
    {
     "ename": "error",
     "evalue": "OpenCV(4.6.0) D:\\a\\opencv-python\\opencv-python\\opencv\\modules\\imgproc\\src\\resize.cpp:4052: error: (-215:Assertion failed) !ssize.empty() in function 'cv::resize'\n",
     "output_type": "error",
     "traceback": [
      "\u001b[1;31m---------------------------------------------------------------------------\u001b[0m",
      "\u001b[1;31merror\u001b[0m                                     Traceback (most recent call last)",
      "Cell \u001b[1;32mIn [8], line 1\u001b[0m\n\u001b[1;32m----> 1\u001b[0m find_contours(img_ok,ip\u001b[39m=\u001b[39;49m\u001b[39m'\u001b[39;49m\u001b[39mtrue_ok\u001b[39;49m\u001b[39m'\u001b[39;49m)\n\u001b[0;32m      2\u001b[0m find_contours(img_ng)\n\u001b[0;32m      3\u001b[0m find_contours(img_ng2)\n",
      "Cell \u001b[1;32mIn [6], line 2\u001b[0m, in \u001b[0;36mfind_contours\u001b[1;34m(img, key, ip)\u001b[0m\n\u001b[0;32m      1\u001b[0m \u001b[39mdef\u001b[39;00m \u001b[39mfind_contours\u001b[39m(img, key \u001b[39m=\u001b[39m \u001b[39mFalse\u001b[39;00m, ip \u001b[39m=\u001b[39m \u001b[39mNone\u001b[39;00m):\n\u001b[1;32m----> 2\u001b[0m     img \u001b[39m=\u001b[39m cv2\u001b[39m.\u001b[39;49mresize(img, (\u001b[39m0\u001b[39;49m,\u001b[39m0\u001b[39;49m), fx \u001b[39m=\u001b[39;49m \u001b[39m0.3\u001b[39;49m, fy \u001b[39m=\u001b[39;49m \u001b[39m0.3\u001b[39;49m, interpolation\u001b[39m=\u001b[39;49mcv2\u001b[39m.\u001b[39;49mINTER_CUBIC)\n\u001b[0;32m      3\u001b[0m     item_img, item_gray, item_bin \u001b[39m=\u001b[39m preproces(img)\n\u001b[0;32m      5\u001b[0m     contour, hierachy \u001b[39m=\u001b[39m cv2\u001b[39m.\u001b[39mfindContours(item_bin, cv2\u001b[39m.\u001b[39mRETR_TREE,cv2\u001b[39m.\u001b[39mCHAIN_APPROX_NONE)\n",
      "\u001b[1;31merror\u001b[0m: OpenCV(4.6.0) D:\\a\\opencv-python\\opencv-python\\opencv\\modules\\imgproc\\src\\resize.cpp:4052: error: (-215:Assertion failed) !ssize.empty() in function 'cv::resize'\n"
     ]
    }
   ],
   "source": [
    "find_contours(img_ok,ip='true_ok')\n",
    "find_contours(img_ng)\n",
    "find_contours(img_ng2)"
   ]
  },
  {
   "cell_type": "code",
   "execution_count": 17,
   "metadata": {},
   "outputs": [],
   "source": [
    "find_contours(img_over)"
   ]
  },
  {
   "cell_type": "code",
   "execution_count": 16,
   "metadata": {},
   "outputs": [
    {
     "data": {
      "text/plain": [
       "['df.dg', 'df.dg']"
      ]
     },
     "execution_count": 16,
     "metadata": {},
     "output_type": "execute_result"
    }
   ],
   "source": [
    "list(map(lambda x: x+'.dg', ['df','df']))"
   ]
  },
  {
   "cell_type": "code",
   "execution_count": 63,
   "metadata": {},
   "outputs": [
    {
     "data": {
      "text/plain": [
       "1668389572099759600"
      ]
     },
     "execution_count": 63,
     "metadata": {},
     "output_type": "execute_result"
    }
   ],
   "source": []
  },
  {
   "cell_type": "code",
   "execution_count": 66,
   "metadata": {},
   "outputs": [],
   "source": [
    "import os\n",
    "import random\n",
    "import time\n",
    "def check_img(kind = 'overkill'):\n",
    "    random.seed(time.time_ns()%10000)\n",
    "    if kind == 'all':\n",
    "        paths = os.listdir('../team/images/')\n",
    "        # print(paths)\n",
    "        img_paths = []\n",
    "        for p in paths:\n",
    "            file_path = '../team/images/'+p+'/'\n",
    "            print(p,':', len(os.listdir(file_path)))\n",
    "            # print(file_path)\n",
    "            img_paths = list(map(lambda x: [file_path+ x, p], os.listdir(file_path)))\n",
    "        while True:\n",
    "            ip = random.choice(img_paths)\n",
    "            # print(p)\n",
    "            img = cv2.imread(ip[0])\n",
    "            \n",
    "            key_val = find_contours(img, key = True, ip =ip[1])\n",
    "            if key_val == ord('q'):\n",
    "                break\n",
    "\n",
    "    else:\n",
    "        file_path = '../team/images/'+kind+'/'\n",
    "        img_paths = os.listdir(file_path)\n",
    "        for i in range(len(img_paths)):\n",
    "            img = cv2.imread(file_path+img_paths[i])\n",
    "            key_val = find_contours(img, key = True, p = kind)\n",
    "            if key_val == 113: # ord('q')\n",
    "                break"
   ]
  },
  {
   "cell_type": "code",
   "execution_count": 68,
   "metadata": {},
   "outputs": [],
   "source": [
    "check_img('true_ng')"
   ]
  },
  {
   "cell_type": "code",
   "execution_count": null,
   "metadata": {},
   "outputs": [],
   "source": []
  }
 ],
 "metadata": {
  "kernelspec": {
   "display_name": "Python 3.11.0 64-bit",
   "language": "python",
   "name": "python3"
  },
  "language_info": {
   "codemirror_mode": {
    "name": "ipython",
    "version": 3
   },
   "file_extension": ".py",
   "mimetype": "text/x-python",
   "name": "python",
   "nbconvert_exporter": "python",
   "pygments_lexer": "ipython3",
   "version": "3.11.0"
  },
  "orig_nbformat": 4,
  "vscode": {
   "interpreter": {
    "hash": "d417a21d97a2e6b8832d21dc44f5cbe4be6e18325f874a8bb8484565b928cd54"
   }
  }
 },
 "nbformat": 4,
 "nbformat_minor": 2
}
