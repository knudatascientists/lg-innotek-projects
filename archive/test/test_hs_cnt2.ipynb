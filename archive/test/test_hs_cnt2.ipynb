{
 "cells": [
  {
   "cell_type": "code",
   "execution_count": 2,
   "metadata": {},
   "outputs": [],
   "source": [
    "import cv2"
   ]
  },
  {
   "cell_type": "code",
   "execution_count": 3,
   "metadata": {},
   "outputs": [],
   "source": [
    "img_ok = cv2.imread('../team/images/true_ok/GSY827AN7A1356_AAO11960K_PKT10_CM1EQSUA0012_20220711210457_DirectLight_OK.jpg')\n",
    "img_ng = cv2.imread('../team/images/true_ng/GSY827AN7B0519_AAO12705K_PKT08_CM1EQSUA0011_20220711213213_DirectLight_NG.jpg')\n",
    "img_ng2 = cv2.imread('../team/images/true_ng/GSY827AN7A1641_AAO19043K_PKT13_CM1EQSUA0012_20220711220653_DirectLight_NG.jpg')\n",
    "img_over = cv2.imread('../team/images/overkill/GSY827AN7B0355_AAO04537K_PKT01_CM1EQSUA0011_20220711234650_DirectLight_NG.jpg')\n"
   ]
  },
  {
   "cell_type": "code",
   "execution_count": 4,
   "metadata": {},
   "outputs": [],
   "source": [
    "def img_resize(img, resize_size = 1600):\n",
    "    width_origin = img.shape[1]\n",
    "    height_origin = img.shape[0]\n",
    "    hw_list = [height_origin, width_origin]\n",
    "\n",
    "    img_ratio = float(resize_size)/ max(hw_list)\n",
    "    # print(img_ratio)\n",
    "    max_index = hw_list.index(max(hw_list))\n",
    "    if max_index ==0:\n",
    "        img = cv2.resize(img, (int(width_origin * img_ratio), resize_size),interpolation=cv2.INTER_CUBIC)\n",
    "    else:\n",
    "        img = cv2.resize(img, (resize_size,int(height_origin * img_ratio)),interpolation=cv2.INTER_CUBIC)\n",
    "\n",
    "    return img\n"
   ]
  },
  {
   "cell_type": "code",
   "execution_count": 5,
   "metadata": {},
   "outputs": [],
   "source": [
    "def find_large_label(img, img_bin, show_img = False):\n",
    "    test_img = img.copy()\n",
    "    _, labels, stats, centroids = cv2.connectedComponentsWithStats(img_bin,)\n",
    "    stats = sorted(stats, key = lambda x: x[4],reverse=True)\n",
    "    if show_img:\n",
    "        for i, rec in enumerate(stats[:2]):\n",
    "            x,y,w,h, area = rec\n",
    "            cv2.rectangle(test_img, (x,y,w,h), (0,0,255),thickness=8)\n",
    "\n",
    "        cv2.imshow('items', img_resize(test_img, 600))\n",
    "        cv2.imshow('items_bin', img_resize(img_bin, 600))\n",
    "        cv2.waitKey(0)\n",
    "        cv2.destroyAllWindows()\n",
    "        # print(stats[0])\n",
    "    if stats[0][1]==0:\n",
    "        return stats[1]\n",
    "    return stats[0]"
   ]
  },
  {
   "cell_type": "code",
   "execution_count": 6,
   "metadata": {},
   "outputs": [],
   "source": [
    "def get_threshold(img,gray,bin_inverse = True):\n",
    "    if bin_inverse:\n",
    "        _, img_bin = cv2.threshold(gray, -1,255,cv2.THRESH_BINARY_INV | cv2.THRESH_OTSU)\n",
    "    else:\n",
    "        _, img_bin = cv2.threshold(gray, -1,255,cv2.THRESH_BINARY | cv2.THRESH_OTSU)\n",
    "\n",
    "    return img_bin\n"
   ]
  },
  {
   "cell_type": "code",
   "execution_count": 7,
   "metadata": {},
   "outputs": [],
   "source": [
    "def preprocess(img, bin_inverse = True, only_bin = False):\n",
    "    gray = cv2.cvtColor(img, cv2.COLOR_BGR2GRAY)\n",
    "    img_bin = get_threshold(img,gray,bin_inverse = True)\n",
    "\n",
    "    large_stat = find_large_label(img, img_bin)\n",
    "    # print(large_stat)\n",
    "    try:\n",
    "        item_img = img[large_stat[1]:large_stat[1]+large_stat[3],large_stat[0]:large_stat[0]+large_stat[2], :].copy()\n",
    "        item_gray = gray[large_stat[1]:large_stat[1]+large_stat[3],large_stat[0]:large_stat[0]+large_stat[2]].copy()\n",
    "    except:\n",
    "        item_img, item_gray= img,gray\n",
    "\n",
    "    item_bin = get_threshold(item_img,item_gray,bin_inverse = False)\n",
    "    return  item_img, item_gray, item_bin"
   ]
  },
  {
   "cell_type": "code",
   "execution_count": 8,
   "metadata": {},
   "outputs": [],
   "source": [
    "# img_ng = cv2.imread('../team/images/true_ng/GSY827AN7D2341_AAO08637K_PKT15_CM1EQSUA0012_20220714014226_DirectLight_NG.jpg')\n",
    "# gray = cv2.cvtColor(img_ng, cv2.COLOR_BGR2GRAY)\n",
    "# img_bin = get_threshold(img_ng,gray,bin_inverse = True)\n",
    "# find_large_label(img_ng, img_bin, show_img = True)\n",
    "# item_img, item_gray, item_bin = preprocess(img_ng)\n",
    "\n",
    "# cv2.imshow('img', img_resize(img_ng, 600))\n",
    "# cv2.imshow('items', img_resize(item_img, 600))\n",
    "# cv2.waitKey(0)\n",
    "# cv2.destroyAllWindows()\n",
    "\n"
   ]
  },
  {
   "cell_type": "code",
   "execution_count": 9,
   "metadata": {},
   "outputs": [],
   "source": [
    "import numpy as np\n",
    "def img_mask(img):\n",
    "    img_hsv = cv2.cvtColor(img, cv2.COLOR_BGR2HSV)\n",
    "    mask = cv2.inRange(img_hsv,(0,0,0),(0,0,100))\n",
    "    imask = mask>0\n",
    "    col = np.zeros_like(img_hsv, np.uint8)\n",
    "    col[imask] = img_hsv[imask]\n",
    "    col = cv2.cvtColor(col,cv2.COLOR_HSV2BGR)\n",
    "    return col"
   ]
  },
  {
   "cell_type": "code",
   "execution_count": 10,
   "metadata": {},
   "outputs": [],
   "source": [
    "import math\n",
    "# 두 점의 각도 계산\n",
    "def get_angle(pt1, pt2):\n",
    "    xd = abs(pt2[0] - pt1[0])\n",
    "    yd = abs(pt2[1] - pt1[1])\n",
    "    if xd == 0:\n",
    "        radian = 0.5*math.pi\n",
    "    else:\n",
    "        radian = math.atan(yd/xd)\n",
    "    return radian\n"
   ]
  },
  {
   "cell_type": "code",
   "execution_count": 11,
   "metadata": {},
   "outputs": [
    {
     "data": {
      "text/plain": [
       "59.99999999999999"
      ]
     },
     "execution_count": 11,
     "metadata": {},
     "output_type": "execute_result"
    }
   ],
   "source": [
    "get_angle([0,0], [1,-(3**0.5)])*180/math.pi"
   ]
  },
  {
   "cell_type": "code",
   "execution_count": 12,
   "metadata": {},
   "outputs": [],
   "source": [
    "# 각도를 계산할 두 꼭짓점 찾기\n",
    "def get_points(cnt):\n",
    "    rect = cv2.minAreaRect(cnt)\n",
    "    box = cv2.boxPoints(rect)   # 중심점과 각도를 4개의 꼭지점 좌표로 변환\n",
    "    box = np.int0(box)          # 정수로 변환\n",
    "    # pt1_ind = cnt[:,:,1].argmin()\n",
    "    # pt2_ind = cnt[:,:,0].argmin()\n",
    "\n",
    "    return box"
   ]
  },
  {
   "cell_type": "code",
   "execution_count": 13,
   "metadata": {},
   "outputs": [
    {
     "data": {
      "text/plain": [
       "0.49999999999999994"
      ]
     },
     "execution_count": 13,
     "metadata": {},
     "output_type": "execute_result"
    }
   ],
   "source": [
    "math.sin(1/6*math.pi)"
   ]
  },
  {
   "cell_type": "code",
   "execution_count": 14,
   "metadata": {},
   "outputs": [],
   "source": [
    "def cnt_test(cnt):\n",
    "    volum_ratio_bound = 0.003\n",
    "    \"\"\"_summary_\n",
    "\n",
    "    Args:\n",
    "        cnt (_type_): _description_\n",
    "\n",
    "    Returns:\n",
    "        _type_: _description_\n",
    "    \"\"\"\n",
    "    area = cv2.contourArea(cnt)\n",
    "    arcLen = cv2.arcLength(cnt, closed=True)\n",
    "    box = get_points(cnt)\n",
    "    s_box = sorted(box, key = lambda x: x[0]+x[1])\n",
    "    # print(s_box)\n",
    "    point1, point2 = s_box[0],s_box[2]\n",
    "    angle = get_angle(point1, point2)\n",
    "    # print(max_area, area,round(area/max_area,3), arcLen)\n",
    "    sin, cos = math.sin(angle), math.cos(angle)\n",
    "    cal_max_box = ((arcLen**2)/4 - 2*area)*(sin*cos)+area\n",
    "    # max_box = (w_max-w_min)*(h_max-h_min)\n",
    "    max_box = cv2.contourArea(box)\n",
    "    print(round(cal_max_box/max_box,3), angle*180/math.pi)\n",
    "    # print(box[1:3], angle*180/math.pi)\n",
    "    if  cal_max_box/max_box < 1-volum_ratio_bound+0.001 or cal_max_box/max_box > 1+volum_ratio_bound-0.001 :\n",
    "        pred = 'NG'\n",
    "    else:\n",
    "        pred = 'ok'\n",
    "    return point1, point2, pred"
   ]
  },
  {
   "cell_type": "code",
   "execution_count": 15,
   "metadata": {},
   "outputs": [],
   "source": [
    "def cnt_test2(cnt):\n",
    "    volum_ratio_bound = 0.004\n",
    "    \"\"\"_summary_\n",
    "\n",
    "    Args:\n",
    "        cnt (_type_): _description_\n",
    "\n",
    "    Returns:\n",
    "        _type_: _description_\n",
    "    \"\"\"\n",
    "    area = cv2.contourArea(cnt) \n",
    "    rect = cv2.minAreaRect(cnt) \n",
    "    box = cv2.boxPoints(rect)\n",
    "    box = np.int0(box)\n",
    "    max_area = cv2.contourArea(box) \n",
    "    print(max_area, area,round(area/max_area,3))\n",
    "\n",
    "    if  area/max_area < 1-volum_ratio_bound +0.001 or area/max_area > 1+volum_ratio_bound -0.001:\n",
    "        pred = 'NG'\n",
    "    else:\n",
    "        pred = 'OK'\n",
    "    return box, pred"
   ]
  },
  {
   "cell_type": "code",
   "execution_count": 25,
   "metadata": {},
   "outputs": [],
   "source": [
    "def check_contain(img_shape, cnt):\n",
    "    center_bound = 100\n",
    "    (x,y), radius = cv2.minEnclosingCircle(cnt)\n",
    "    # center = (int(x), int(y))\n",
    "    radius = int(radius)\n",
    "    center_diff = ((int(img_shape[0]/2)-int(y))**2+(int(img_shape[1]/2) -int(x))**2)**0.5\n",
    "    # print(center, (img_shape[1]/2,img_shape[0]/2), center_diff)\n",
    "    if center_diff < center_bound:\n",
    "        return True\n",
    "    return False"
   ]
  },
  {
   "cell_type": "code",
   "execution_count": 105,
   "metadata": {},
   "outputs": [],
   "source": [
    "def carrierTest(item_img, box):\n",
    "    box = np.array(sorted(box, key = lambda x: sum(x)))\n",
    "    carrier_range = 80\n",
    "    epoxy_range = carrier_range-20\n",
    "    \n",
    "    carrierBox = box.copy()\n",
    "    epoxyBox = box.copy()\n",
    "    carrierBox[0] = np.array([box[1,0]-carrier_range, box[1,1]+carrier_range+7])\n",
    "    carrierBox[1] = np.array([box[0,0]-carrier_range, box[0,1]-carrier_range-7])\n",
    "    carrierBox[2] = np.array([box[2,0]+carrier_range, box[2,1]-carrier_range-7])\n",
    "    carrierBox[3] = np.array([box[3,0]+carrier_range, box[3,1]+carrier_range+7])\n",
    "    epoxyBox[0] = np.array([box[1,0]-epoxy_range, box[1,1]+epoxy_range+7])\n",
    "    epoxyBox[1] = np.array([box[0,0]-epoxy_range, box[0,1]-epoxy_range-7])\n",
    "    epoxyBox[2] = np.array([box[2,0]+epoxy_range, box[2,1]-epoxy_range-7])\n",
    "    epoxyBox[3] = np.array([box[3,0]+epoxy_range, box[3,1]+epoxy_range+7])\n",
    "    print(carrierBox)\n",
    "    carrier_img = item_img[carrierBox[1,1]:carrierBox[3,1],carrierBox[0,0]:carrierBox[3,0], :].copy()\n",
    "    cv2.imshow('carrier_img', img_resize(carrier_img, 600))\n",
    "    cv2.waitKey(0)\n",
    "    # cv2.destroyAllWindows()\n",
    "\n",
    "    pred = 'NG'\n",
    "\n",
    "    return pred, carrierBox, epoxyBox"
   ]
  },
  {
   "cell_type": "code",
   "execution_count": 104,
   "metadata": {},
   "outputs": [],
   "source": [
    "def find_contours(img, ip = None):\n",
    "    # img = cv2.resize(img, (0,0), fx = 0.3, fy = 0.3, interpolation=cv2.INTER_CUBIC)\n",
    "    item_img, item_gray, item_bin = preprocess(img)\n",
    "    col = img_mask(item_img)\n",
    "    # contour, hierachy = cv2.findContours(item_bin, cv2.RETR_TREE,cv2.CHAIN_APPROX_NONE)\n",
    "    contour, hierachy = cv2.findContours(item_bin, cv2.RETR_TREE,cv2.CHAIN_APPROX_SIMPLE)\n",
    "    result = False\n",
    "    for i, cnt in enumerate(contour):\n",
    "\n",
    "        if cv2.contourArea(cnt) > 1500000:\n",
    "            if check_contain(item_img.shape, cnt):\n",
    "                cv2.drawContours(item_img, [cnt], 0,(255,0,0),5)\n",
    "                result = True\n",
    "                break\n",
    "        \n",
    "\n",
    "    if ip:\n",
    "        cv2.putText(img, ip, (10,60),cv2.FONT_HERSHEY_SIMPLEX,3,(0,255,0),3)\n",
    "    \n",
    "    pred = 'NG'\n",
    "    if result:\n",
    "        box, pred = cnt_test2(cnt)\n",
    "        cv2.drawContours(item_img, [box], 0,(0,255,0),5)\n",
    "\n",
    "        # print(box)\n",
    "        # j=1\n",
    "        # cols = [(255,255,255),(0,0,255),(0,255,0),(255,0,0)]\n",
    "        # point1x,point1y = point1\n",
    "        # point2x,point2y = point2\n",
    "        \n",
    "        # cv2.circle(item_img,point1,5,cols[1],10) \n",
    "        # cv2.circle(item_img,point2,5,cols[2],10) \n",
    "\n",
    "    # carrier epoxy test\n",
    "    if pred == 'OK':\n",
    "        pred, carrierBox, epoxyBox = carrierTest(item_img, box)\n",
    "        cv2.drawContours(item_img, [carrierBox], 0,(0,0,255),3)\n",
    "        cv2.drawContours(item_img, [epoxyBox], 0,(40,128,128),3)\n",
    "\n",
    "    cv2.putText(item_img, 'predicted '+pred, (10,60),cv2.FONT_HERSHEY_SIMPLEX,3,(0,255,0),3)\n",
    "\n",
    "\n",
    "    # print(item_img.shape)\n",
    "    # cv2.imshow('img', img)\n",
    "    cv2.imshow('item_img', img_resize(item_img,600))\n",
    "    # cv2.imshow('col', col)\n",
    "    # cv2.imshow('bin', item_bin)\n",
    "    \n",
    "    key_val = cv2.waitKey(0)\n",
    "    cv2.destroyAllWindows()\n",
    "\n",
    "    return key_val\n",
    "\n"
   ]
  },
  {
   "cell_type": "code",
   "execution_count": 29,
   "metadata": {},
   "outputs": [],
   "source": [
    "test_img = cv2.imread('O:/lg/team/images/true_ng/GSY827BN8E0035_AAO19345K_PKT01_CM1EQSUA0012_20220814060338_DirectLight_NG.jpg')\n"
   ]
  },
  {
   "cell_type": "code",
   "execution_count": 64,
   "metadata": {},
   "outputs": [
    {
     "name": "stdout",
     "output_type": "stream",
     "text": [
      "2135625.0 2101757.5 0.984\n"
     ]
    },
    {
     "data": {
      "text/plain": [
       "13"
      ]
     },
     "execution_count": 64,
     "metadata": {},
     "output_type": "execute_result"
    }
   ],
   "source": [
    "find_contours(test_img, ip = 'NG')"
   ]
  },
  {
   "cell_type": "code",
   "execution_count": 106,
   "metadata": {},
   "outputs": [
    {
     "name": "stdout",
     "output_type": "stream",
     "text": [
      "2105060.0 2100386.0 0.998\n",
      "[[ 306 1611]\n",
      " [ 308  181]\n",
      " [2144  183]\n",
      " [2142 1613]]\n"
     ]
    },
    {
     "data": {
      "text/plain": [
       "13"
      ]
     },
     "execution_count": 106,
     "metadata": {},
     "output_type": "execute_result"
    }
   ],
   "source": [
    "# find_contours(img_ng, ip = 'NG')\n",
    "# find_contours(img_ng2, ip = 'NG')\n",
    "find_contours(img_ok, ip = 'ok')\n",
    "# find_contours(img_over, ip = 'ok')"
   ]
  },
  {
   "cell_type": "code",
   "execution_count": null,
   "metadata": {},
   "outputs": [],
   "source": [
    "import os\n",
    "import random\n",
    "import time\n",
    "def check_img(kind = 'overkill'):\n",
    "    random.seed(time.time_ns()%10000)\n",
    "    if kind == 'all':\n",
    "        paths = os.listdir('../team/images/')\n",
    "        img_paths = []\n",
    "        for p in paths:\n",
    "            file_path = '../team/images/'+p+'/'\n",
    "            img_paths = list(map(lambda x: [file_path+ x, p], os.listdir(file_path)))\n",
    "        while True:\n",
    "            ip = random.choice(img_paths)\n",
    "            img = cv2.imread(ip[0])\n",
    "            \n",
    "            key_val= find_contours(img, ip =ip[1])\n",
    "            \n",
    "            if key_val == 113:\n",
    "                break\n",
    "\n",
    "    else:\n",
    "        file_path = '../team/images/'+kind+'/'\n",
    "        img_paths = os.listdir(file_path)\n",
    "        for i in range(len(img_paths)):\n",
    "            img = cv2.imread(file_path+img_paths[i])\n",
    "            key_val = find_contours(img,  ip = kind)\n",
    "            if key_val == 113: # ord('q')\n",
    "                break"
   ]
  },
  {
   "cell_type": "code",
   "execution_count": null,
   "metadata": {},
   "outputs": [
    {
     "name": "stdout",
     "output_type": "stream",
     "text": [
      "2205658.0 2104501.0 0.954\n",
      "2235969.5 2108099.5 0.943\n",
      "1801822.5 1747312.0 0.97\n",
      "1808898.0 1753930.0 0.97\n",
      "1800366.0 1711622.5 0.951\n",
      "1804656.0 1715527.5 0.951\n",
      "2104431.0 2100317.5 0.998\n",
      "2191266.0 2103335.5 0.96\n",
      "2236056.0 2109826.5 0.944\n",
      "2076676.0 2066804.5 0.995\n",
      "2173970.0 2102896.5 0.967\n",
      "2143608.0 2100875.5 0.98\n",
      "2175452.0 2105838.5 0.968\n",
      "2186288.0 2103713.5 0.962\n",
      "2132708.0 2100826.0 0.985\n",
      "2153920.0 2081274.0 0.966\n",
      "2189210.0 2076559.5 0.949\n",
      "2081676.0 2067448.5 0.993\n",
      "2083436.0 2069483.5 0.993\n",
      "2111628.0 2075338.0 0.983\n",
      "2082915.0 2068040.0 0.993\n",
      "2178330.0 2080873.5 0.955\n",
      "2189799.0 2076976.5 0.948\n",
      "2194071.0 2077321.0 0.947\n",
      "2134007.0 2102391.0 0.985\n",
      "2152004.0 2118561.5 0.984\n",
      "2180193.0 2080852.0 0.954\n",
      "2119535.0 2074220.5 0.979\n",
      "2103619.5 2099770.5 0.998\n",
      "2204881.5 2114251.0 0.959\n",
      "2184372.0 2094920.0 0.959\n",
      "2128389.5 2096508.0 0.985\n",
      "2156443.5 2109963.0 0.978\n",
      "2176842.0 2102138.5 0.966\n",
      "2185372.0 2108174.0 0.965\n",
      "2209909.5 2107103.5 0.953\n",
      "2238900.0 2107830.0 0.941\n",
      "2308529.0 2109405.0 0.914\n"
     ]
    }
   ],
   "source": [
    "check_img('true_ng')"
   ]
  },
  {
   "cell_type": "code",
   "execution_count": null,
   "metadata": {},
   "outputs": [
    {
     "name": "stdout",
     "output_type": "stream",
     "text": [
      "2105899.0 2100728.0 0.998\n",
      "2089587.0 2073703.5 0.992\n",
      "2084182.0 2072606.5 0.994\n",
      "2103908.0 2098402.5 0.997\n",
      "2104472.0 2099911.0 0.998\n",
      "2103800.0 2100086.5 0.998\n",
      "2075845.0 2071898.5 0.998\n",
      "2105062.0 2101370.0 0.998\n",
      "2105916.0 2101372.5 0.998\n",
      "2105060.0 2099527.5 0.997\n",
      "2105144.0 2099922.5 0.998\n",
      "2104431.0 2100340.5 0.998\n",
      "2102125.0 2100229.0 0.999\n"
     ]
    }
   ],
   "source": [
    "check_img('overkill')"
   ]
  },
  {
   "cell_type": "code",
   "execution_count": null,
   "metadata": {},
   "outputs": [
    {
     "name": "stdout",
     "output_type": "stream",
     "text": [
      "2105060.0 2100386.0 0.998\n",
      "2105895.5 2100694.0 0.998\n",
      "2102125.0 2100589.5 0.999\n",
      "2104435.5 2100415.0 0.998\n",
      "2103848.0 2100806.0 0.999\n",
      "2103800.0 2100703.0 0.999\n",
      "2103800.0 2101530.5 0.999\n",
      "2102125.0 2100919.5 0.999\n",
      "2100870.0 2100087.5 1.0\n",
      "2105698.0 2100942.0 0.998\n",
      "2105895.5 2100973.5 0.998\n",
      "2105076.0 2100134.0 0.998\n",
      "2105068.0 2101300.0 0.998\n",
      "2105058.0 2101342.5 0.998\n",
      "2105176.0 2100950.0 0.998\n"
     ]
    }
   ],
   "source": [
    "check_img('true_ok')"
   ]
  },
  {
   "cell_type": "code",
   "execution_count": null,
   "metadata": {},
   "outputs": [],
   "source": []
  }
 ],
 "metadata": {
  "kernelspec": {
   "display_name": "Python 3.8.2 ('teamP': venv)",
   "language": "python",
   "name": "python3"
  },
  "language_info": {
   "codemirror_mode": {
    "name": "ipython",
    "version": 3
   },
   "file_extension": ".py",
   "mimetype": "text/x-python",
   "name": "python",
   "nbconvert_exporter": "python",
   "pygments_lexer": "ipython3",
   "version": "3.8.2"
  },
  "orig_nbformat": 4,
  "vscode": {
   "interpreter": {
    "hash": "2609a2b9096678a109be2a8ba02f88f98b4c4bcbf60615abe3360d8f8e35f61b"
   }
  }
 },
 "nbformat": 4,
 "nbformat_minor": 2
}
