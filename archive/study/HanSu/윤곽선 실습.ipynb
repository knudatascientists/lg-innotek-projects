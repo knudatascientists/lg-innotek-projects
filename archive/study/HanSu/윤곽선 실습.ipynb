{
 "cells": [
  {
   "cell_type": "code",
   "execution_count": 1,
   "metadata": {},
   "outputs": [],
   "source": [
    "import cv2\n",
    "import math"
   ]
  },
  {
   "cell_type": "code",
   "execution_count": 43,
   "metadata": {},
   "outputs": [],
   "source": [
    "FONT = cv2.FONT_HERSHEY_DUPLEX\n",
    "BLUE = (255, 0, 0)\n",
    "GREEN = (0, 255, 0)\n",
    "RED = (0, 0, 255)\n",
    "FILTER_RATIO = 0.85"
   ]
  },
  {
   "cell_type": "code",
   "execution_count": 3,
   "metadata": {},
   "outputs": [],
   "source": [
    "# 경계선\n",
    "def get_contours(img, min_area, is_simple = False):\n",
    "    # simple : 꼭짓점 좌표\n",
    "    if is_simple:\n",
    "        contours,_ = cv2.findContours(img, cv2.RETR_CCOMP, cv2.CHAIN_APPROX_SIMPLE)\n",
    "    else:\n",
    "        contours,_ = cv2.findContours(img, cv2.RETR_CCOMP, cv2.CHAIN_APPROX_NONE)\n",
    "\n",
    "    result = []\n",
    "\n",
    "    for cnt in contours:\n",
    "        # 경계선 최소 너비 이상\n",
    "        if cv2.contourArea(cnt) > min_area:\n",
    "            result.append(cnt)\n",
    "    return result\n",
    "\n",
    "# 꼭짓점\n",
    "def draw_points(img, cnt, epsilon, color):\n",
    "    cnt_length = cv2.arcLength(cnt, True)\n",
    "    approx = cv2.approxPolyDP(cnt, epsilon * cnt_length,True)\n",
    "\n",
    "    for point in approx:\n",
    "        cv2.circle(img, (point[0][0], point[0][1]), 3, color, -1)\n",
    "\n",
    "# 직사각형인지 여부를 확인\n",
    "def is_rectangle():\n",
    "    pass\n",
    "    \n"
   ]
  },
  {
   "cell_type": "code",
   "execution_count": 8,
   "metadata": {},
   "outputs": [],
   "source": [
    "img = cv2.imread('./test_img/test.jpg')\n",
    "img = cv2.resize(img, (0,0), fx= 0.6, fy=0.6, interpolation=cv2.INTER_CUBIC)\n",
    "filter_img = cv2.inRange(img, (0,0,0),(255,150,255))"
   ]
  },
  {
   "cell_type": "code",
   "execution_count": 11,
   "metadata": {},
   "outputs": [],
   "source": [
    "cv2.imshow('img',img )\n",
    "cv2.imshow('filter_img',filter_img)\n",
    "cv2.waitKey(0)\n",
    "cv2.destroyAllWindows()"
   ]
  },
  {
   "cell_type": "code",
   "execution_count": 12,
   "metadata": {},
   "outputs": [],
   "source": [
    "contours_simple = get_contours(filter_img,50, True)\n",
    "contours_None = get_contours(filter_img,50, False)"
   ]
  },
  {
   "cell_type": "code",
   "execution_count": 13,
   "metadata": {},
   "outputs": [],
   "source": [
    "simple_text = 'contours count : '+ str(len(contours_simple))\n",
    "simple_img = cv2.putText(img.copy(), simple_text, (0, 25), FONT, 1, RED)\n",
    "\n",
    "for cnt in contours_simple:\n",
    "    cv2.drawContours(simple_img, cnt, -1, BLUE, 5)\n",
    "    draw_points(simple_img, cnt, 0.1, GREEN)\n",
    "\n",
    "none_text = 'contours count : ' + str(len(contours_None))\n",
    "none_img = cv2.putText(img.copy(), none_text, (0, 25), FONT, 1, RED)\n",
    "\n",
    "for cnt in contours_None:\n",
    "    cv2.drawContours(none_img, cnt, -1, BLUE, 5)\n",
    "    draw_points(none_img, cnt, 0.1, GREEN)"
   ]
  },
  {
   "cell_type": "code",
   "execution_count": 14,
   "metadata": {},
   "outputs": [],
   "source": [
    "cv2.imshow('img',img )\n",
    "cv2.imshow('filter_img',filter_img)\n",
    "cv2.imshow('imgnone_img', none_img)\n",
    "cv2.imshow('simple_img', simple_img)\n",
    "cv2.waitKey(0)\n",
    "cv2.destroyAllWindows()"
   ]
  },
  {
   "cell_type": "code",
   "execution_count": 38,
   "metadata": {},
   "outputs": [],
   "source": [
    "import cv2\n",
    "import numpy as np\n",
    "img = cv2.imread('../team/images/true_ok/GSY827AN7A1356_AAO11960K_PKT10_CM1EQSUA0012_20220711210457_DirectLight_OK.jpg')\n",
    "img_ng = cv2.imread('../team/images/true_ng/GSY827AN7B0519_AAO12705K_PKT08_CM1EQSUA0011_20220711213213_DirectLight_NG.jpg')\n",
    "def filter_img(img):\n",
    "    img = cv2.resize(img, (0,0), fx= 0.3, fy=0.3, interpolation=cv2.INTER_CUBIC)\n",
    "\n",
    "    img = cv2.cvtColor(img, cv2.COLOR_BGR2HSV)\n",
    "    # img_equl = img.copy()\n",
    "    # img_equl[:,:,1] = cv2.equalizeHist(img_equl[:,:,1])\n",
    "    # img_equl= cv2.cvtColor(img_equl, cv2.COLOR_HSV2BGR)\n",
    "    filter_img = cv2.inRange(img, (0,0,0),(255,255,200))\n",
    "    # print(np.unique(img[filter_img>0][:,2]))\n",
    "    img = cv2.cvtColor(img, cv2.COLOR_HSV2BGR)\n",
    "    cv2.imshow('img',img )\n",
    "    cv2.imshow('filter_img',filter_img)\n",
    "    # cv2.imshow('img_equl',img_equl)\n",
    "    cv2.waitKey(0)\n",
    "    cv2.destroyAllWindows()\n"
   ]
  },
  {
   "cell_type": "code",
   "execution_count": 39,
   "metadata": {},
   "outputs": [
    {
     "name": "stdout",
     "output_type": "stream",
     "text": [
      "[ 28  30  31  32  33  34  35  36  37  38  39  40  41  42  43  44  45  46\n",
      "  47  48  49  50  51  52  53  54  55  56  57  58  59  60  61  62  63  64\n",
      "  65  66  67  68  69  70  71  72  73  74  75  76  77  78  79  80  81  82\n",
      "  83  84  85  86  87  88  89  90  91  92  93  94  95  96  97  98  99 100\n",
      " 101 102 103 104 105 106 107 108 109 110 111 112 113 114 115 116 117 118\n",
      " 119 120 121 122 123 124 125 126 127 128 129 130 131 132 133 134 135 136\n",
      " 137 138 139 140 141 142 143 144 145 146 147 148 149 150 151 152 153 154\n",
      " 155 156 157 158 159 160 161 162 163 164 165 166 167 168 169 170 171 172\n",
      " 173 174 175 176 177 178 179 180 181 182 183 184 185 186 187 188 189 190\n",
      " 191 192 193 194 195 196 197 198 199 200]\n",
      "[ 29  30  31  32  33  34  35  36  37  38  39  40  41  42  43  44  45  46\n",
      "  47  48  49  50  51  52  53  54  55  56  57  58  59  60  61  62  63  64\n",
      "  65  66  67  68  69  70  71  72  73  74  75  76  77  78  79  80  81  82\n",
      "  83  84  85  86  87  88  89  90  91  92  93  94  95  96  97  98  99 100\n",
      " 101 102 103 104 105 106 107 108 109 110 111 112 113 114 115 116 117 118\n",
      " 119 120 121 122 123 124 125 126 127 128 129 130 131 132 133 134 135 136\n",
      " 137 138 139 140 141 142 143 144 145 146 147 148 149 150 151 152 153 154\n",
      " 155 156 157 158 159 160 161 162 163 164 165 166 167 168 169 170 171 172\n",
      " 173 174 175 176 177 178 179 180 181 182 183 184 185 186 187 188 189 190\n",
      " 191 192 193 194 195 196 197 198 199 200]\n"
     ]
    }
   ],
   "source": [
    "filter_img(img)\n",
    "filter_img(img_ng)"
   ]
  },
  {
   "cell_type": "code",
   "execution_count": 50,
   "metadata": {},
   "outputs": [],
   "source": [
    "# 경계선 \n",
    "def  get_contours(img, min_area, is_simple = False):\n",
    "    if is_simple:\n",
    "        contours, _ = cv2.findContours(img, cv2.RETR_CCOMP, cv2.CHAIN_APPROX_SIMPLE)\n",
    "    else:\n",
    "        contours, _ = cv2.findContours(img, cv2.RETR_CCOMP, cv2.CHAIN_APPROX_NONE)\n",
    "    \n",
    "    result = []\n",
    "    areas = []\n",
    "    for cnt in contours:\n",
    "        areas.append(cv2.contourArea(cnt))\n",
    "        if cv2.contourArea(cnt) > min_area:\n",
    "            result.append(cnt)\n",
    "    return result, areas\n",
    "\n",
    "# 꼭짓점\n",
    "def draw_points(img, cnt, epsilon, color):\n",
    "    cnt_length = cv2.arcLength(cnt, True)\n",
    "    approx = cv2.approxPolyDP(cnt, epsilon * cnt_length,True)\n",
    "\n",
    "    for point in approx:\n",
    "        cv2.circle(img, (point[0][0], point[0][1]), 3, color, -1)\n"
   ]
  },
  {
   "cell_type": "code",
   "execution_count": 53,
   "metadata": {},
   "outputs": [],
   "source": [
    "img = cv2.imread('../team/images/true_ok/GSY827AN7A1356_AAO11960K_PKT10_CM1EQSUA0012_20220711210457_DirectLight_OK.jpg')\n",
    "img_ng = cv2.imread('../team/images/true_ng/GSY827AN7B0519_AAO12705K_PKT08_CM1EQSUA0011_20220711213213_DirectLight_NG.jpg')\n",
    "def drow_img_line(img):\n",
    "    img = cv2.resize(img, (0,0), fx= 0.3, fy=0.3, interpolation=cv2.INTER_CUBIC)\n",
    "    hsv_img = cv2.cvtColor(img, cv2.COLOR_BGR2HSV)\n",
    "\n",
    "    filter_img = cv2.inRange(hsv_img, (0,0,200),(255,255,255))\n",
    "    # contours_simple = get_contours(filter_img,50, True)\n",
    "    contours_None, areas = get_contours(filter_img,180000, False)\n",
    "    print(max(areas))\n",
    "\n",
    "    # simple_text = 'contours count : '+ str(len(contours_simple))\n",
    "    # simple_img = cv2.putText(img.copy(), simple_text, (0, 25), FONT, 1, RED)\n",
    "\n",
    "    # for cnt in contours_simple:\n",
    "    #     cv2.drawContours(simple_img, cnt, -1, BLUE, 5)\n",
    "    #     draw_points(simple_img, cnt, 0.1, GREEN)\n",
    "\n",
    "    none_text = 'contours count : ' + str(len(contours_None))\n",
    "    none_img = cv2.putText(img.copy(), none_text, (0, 25), FONT, 1, RED)\n",
    "\n",
    "    for cnt in contours_None:\n",
    "        cv2.drawContours(none_img, cnt, -1, BLUE, 5)\n",
    "        draw_points(none_img, cnt, 0.1, GREEN)\n",
    "    cv2.imshow('img',img )\n",
    "    cv2.imshow('filter_img',filter_img)\n",
    "    cv2.imshow('imgnone_img', none_img)\n",
    "    # cv2.imshow('simple_img', simple_img)\n",
    "    cv2.waitKey(0)\n",
    "    cv2.destroyAllWindows()\n"
   ]
  },
  {
   "cell_type": "code",
   "execution_count": 54,
   "metadata": {},
   "outputs": [
    {
     "name": "stdout",
     "output_type": "stream",
     "text": [
      "188126.5\n",
      "185013.5\n"
     ]
    }
   ],
   "source": [
    "drow_img_line(img)\n",
    "drow_img_line(img_ng)"
   ]
  },
  {
   "cell_type": "code",
   "execution_count": null,
   "metadata": {},
   "outputs": [],
   "source": []
  }
 ],
 "metadata": {
  "kernelspec": {
   "display_name": "Python 3.8.2 ('teamP': venv)",
   "language": "python",
   "name": "python3"
  },
  "language_info": {
   "codemirror_mode": {
    "name": "ipython",
    "version": 3
   },
   "file_extension": ".py",
   "mimetype": "text/x-python",
   "name": "python",
   "nbconvert_exporter": "python",
   "pygments_lexer": "ipython3",
   "version": "3.8.2"
  },
  "orig_nbformat": 4,
  "vscode": {
   "interpreter": {
    "hash": "2609a2b9096678a109be2a8ba02f88f98b4c4bcbf60615abe3360d8f8e35f61b"
   }
  }
 },
 "nbformat": 4,
 "nbformat_minor": 2
}
